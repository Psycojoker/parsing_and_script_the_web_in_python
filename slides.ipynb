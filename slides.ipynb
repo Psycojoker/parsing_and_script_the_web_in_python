{
 "cells": [
  {
   "cell_type": "markdown",
   "metadata": {
    "slideshow": {
     "slide_type": "slide"
    }
   },
   "source": [
    "# Comment parser et script le web en python\n"
   ]
  },
  {
   "cell_type": "markdown",
   "metadata": {
    "slideshow": {
     "slide_type": "slide"
    }
   },
   "source": [
    "# Comment parser et script le web en python\n",
    "\n",
    "#### Parser: extraire des informations d'une source\n",
    "\n",
    "#### Scripter: automatiser un comportement"
   ]
  },
  {
   "cell_type": "markdown",
   "metadata": {
    "slideshow": {
     "slide_type": "slide"
    }
   },
   "source": [
    "But de la conférence : introduction au scripting et parsing du web en python avec des pistes pour les usages avancés.\n",
    "\n",
    "Outils présentés:\n",
    "\n",
    "* beautifulsoup (4)\n",
    "* urllib(2)\n",
    "* requests\n",
    "* robobrowser (amélioration de mechanize)\n",
    "* firebug/celui par défaut/de chrome\n",
    "* ipython-beautifulsoup\n",
    "* live http header"
   ]
  },
  {
   "cell_type": "markdown",
   "metadata": {
    "slideshow": {
     "slide_type": "slide"
    }
   },
   "source": [
    "# Le web: HTTP + HTML\n"
   ]
  },
  {
   "cell_type": "markdown",
   "metadata": {
    "slideshow": {
     "slide_type": "subslide"
    }
   },
   "source": [
    "# HTML"
   ]
  },
  {
   "cell_type": "markdown",
   "metadata": {
    "slideshow": {
     "slide_type": "fragment"
    }
   },
   "source": [
    "## Structure générale :\n",
    "\n",
    "```html\n",
    "<tag>\n",
    "</tag>\n",
    "```"
   ]
  },
  {
   "cell_type": "markdown",
   "metadata": {
    "slideshow": {
     "slide_type": "fragment"
    }
   },
   "source": [
    "```html\n",
    "<tag>\n",
    "    <sous_tag>\n",
    "    </sous_tag>\n",
    "</tag>\n",
    "```"
   ]
  },
  {
   "cell_type": "markdown",
   "metadata": {
    "slideshow": {
     "slide_type": "fragment"
    }
   },
   "source": [
    "```html\n",
    "<tag_auto_fermant />\n",
    "<aussi_valide_desormait>\n",
    "```"
   ]
  },
  {
   "cell_type": "markdown",
   "metadata": {
    "slideshow": {
     "slide_type": "fragment"
    }
   },
   "source": [
    "```html\n",
    "<tag_avec_attributs attribute=\"valeur\" autre_attribut=\"pouet\">\n",
    "</tag_avec_attributs>\n",
    "```"
   ]
  },
  {
   "cell_type": "markdown",
   "metadata": {
    "collapsed": true,
    "slideshow": {
     "slide_type": "subslide"
    }
   },
   "source": [
    "# HTML\n",
    "\n",
    "## Exemple d'une page web classique\n",
    "\n",
    "```html\n",
    "<!DOCTYPE html>\n",
    "<html>\n",
    " <head>\n",
    "  <title>\n",
    "   Exemple de HTML\n",
    "  </title>\n",
    " </head>\n",
    " <body>\n",
    "  Ceci est une phrase avec un <a href=\"cible.html\">hyperlien</a>.\n",
    "  <p>\n",
    "   Ceci est un paragraphe où il n’y a pas d’hyperlien.\n",
    "  </p>\n",
    " </body>\n",
    "</html>\n",
    "```"
   ]
  },
  {
   "cell_type": "markdown",
   "metadata": {
    "slideshow": {
     "slide_type": "slide"
    }
   },
   "source": [
    "# HTTP"
   ]
  },
  {
   "cell_type": "markdown",
   "metadata": {
    "slideshow": {
     "slide_type": "subslide"
    }
   },
   "source": [
    "# HTTP\n",
    "\n",
    "![http.png](http.png)"
   ]
  },
  {
   "cell_type": "markdown",
   "metadata": {
    "slideshow": {
     "slide_type": "subslide"
    }
   },
   "source": [
    "# HTTP : Exemple d'échange\n",
    "\n",
    "Client :\n",
    "```\n",
    "GET / HTTP/1.1\n",
    "User-Agent: curl/7.35.0\n",
    "Host: 0.0.0.0:5000\n",
    "Accept: */*\n",
    "\n",
    "```\n",
    "\n",
    "Serveur :\n",
    "```html\n",
    "HTTP/1.0 200 OK\n",
    "Server: SimpleHTTP/0.6 Python/2.7.6\n",
    "Date: Sun, 06 Mar 2016 18:35:04 GMT\n",
    "Content-type: text/html; charset=UTF-8\n",
    "Content-Length: 450\n",
    " \n",
    "<!DOCTYPE html PUBLIC \"-//W3C//DTD HTML 3.2 Final//EN\"><html>\n",
    "<title>Directory listing for /</title>\n",
    "<body>\n",
    "<h2>Directory listing for /</h2>\n",
    "<hr>\n",
    "<ul>\n",
    "<li><a href=\".ipynb_checkpoints/\">.ipynb_checkpoints/</a>\n",
    "<li><a href=\"http.png\">http.png</a>\n",
    "<li><a href=\"requirements.txt\">requirements.txt</a>\n",
    "<li><a href=\"slides.ipynb\">slides.ipynb</a>\n",
    "<li><a href=\"slides.slides.html\">slides.slides.html</a>\n",
    "<li><a href=\"ve/\">ve/</a>\n",
    "</ul>\n",
    "<hr>\n",
    "</body>\n",
    "</html>\n",
    "```"
   ]
  },
  {
   "cell_type": "markdown",
   "metadata": {
    "slideshow": {
     "slide_type": "subslide"
    }
   },
   "source": [
    "# HTTP: démo avec nc (netcat)\n",
    "\n",
    "```html\n",
    "psycojoker@dolgoff ~ nc -l 5000\n",
    "GET / HTTP/1.1\n",
    "Host: localhost:5000\n",
    "Connection: keep-alive\n",
    "Cache-Control: max-age=0\n",
    "Accept: text/html,application/xhtml+xml,application/xml;q=0.9,image/webp,*/*;q=0.8\n",
    "Upgrade-Insecure-Requests: 1\n",
    "User-Agent: Mozilla/5.0 (X11; Linux x86_64) AppleWebKit/537.36 (KHTML, like Gecko) Ubuntu Chromium/48.0.2564.82 Chrome/48.0.2564.82 Safari/537.36\n",
    "Accept-Encoding: gzip, deflate, sdch\n",
    "Accept-Language: fr-FR,fr;q=0.8,en-US;q=0.6,en;q=0.4\n",
    "Cookie: csrftoken=PDY9ZJdnPufZJebI3cGrWEi3JeczTlJw\n",
    "\n",
    "HTTP/1.0 200 OK\n",
    "Server: SimpleHTTP/0.6 Python/2.7.6\n",
    "Date: Sun, 06 Mar 2016 18:35:04 GMT\n",
    "Content-type: text/html; charset=UTF-8\n",
    "Content-Length: 450\n",
    "\n",
    "<p>Salut toi!</p>\n",
    "```"
   ]
  },
  {
   "cell_type": "markdown",
   "metadata": {
    "slideshow": {
     "slide_type": "slide"
    }
   },
   "source": [
    "# Parser de l'html: BeautifulSoup"
   ]
  },
  {
   "cell_type": "markdown",
   "metadata": {
    "slideshow": {
     "slide_type": "subslide"
    }
   },
   "source": [
    "# Parser de l'html : BeautifulSoup\n",
    "\n",
    "Transforme de l'html (une structure de donnée) en objects.\n",
    "\n",
    "Installation:\n",
    "\n",
    "\n",
    "    pip install bs4  # \"beautifulsoup\" est le package de l'ancienne version\n",
    "       "
   ]
  },
  {
   "cell_type": "markdown",
   "metadata": {
    "slideshow": {
     "slide_type": "subslide"
    }
   },
   "source": [
    "# Parser de l'html : BeautifulSoup\n",
    "\n",
    "Utilisation:"
   ]
  },
  {
   "cell_type": "code",
   "execution_count": 19,
   "metadata": {
    "collapsed": false,
    "slideshow": {
     "slide_type": "-"
    }
   },
   "outputs": [],
   "source": [
    "from bs4 import BeautifulSoup\n",
    "\n",
    "soup = BeautifulSoup(\"<p>du super <b>html !</b></p>\", \"html.parser\")"
   ]
  },
  {
   "cell_type": "code",
   "execution_count": 20,
   "metadata": {
    "collapsed": false
   },
   "outputs": [
    {
     "name": "stdout",
     "output_type": "stream",
     "text": [
      "<p>du super <b>html !</b></p>\n"
     ]
    }
   ],
   "source": [
    "print soup"
   ]
  },
  {
   "cell_type": "code",
   "execution_count": 21,
   "metadata": {
    "collapsed": false,
    "slideshow": {
     "slide_type": "fragment"
    }
   },
   "outputs": [
    {
     "name": "stdout",
     "output_type": "stream",
     "text": [
      "<p>\n",
      " du super\n",
      " <b>\n",
      "  html !\n",
      " </b>\n",
      "</p>\n"
     ]
    }
   ],
   "source": [
    "print soup.prettify()"
   ]
  },
  {
   "cell_type": "markdown",
   "metadata": {
    "slideshow": {
     "slide_type": "subslide"
    }
   },
   "source": [
    "# Parser de l'html : query"
   ]
  },
  {
   "cell_type": "code",
   "execution_count": 32,
   "metadata": {
    "collapsed": true
   },
   "outputs": [],
   "source": [
    "html = \"\"\"\n",
    " <head>\n",
    "  <title>\n",
    "   Exemple de HTML\n",
    "  </title>\n",
    " </head>\n",
    " <body>\n",
    "  <p>Ceci est une phrase avec un <a href=\"cible.html\">hyperlien</a>.</p>\n",
    "  <p>Ceci est un paragraphe où il n’y a pas d’hyperlien.</p>\n",
    "  <p class=\"style\">Ceci est un autre paragraphe <b>qui contient du text en gras</b>\n",
    "     et <a href=\"http://perdu.com\">un autre lien</a>\n",
    "  </p>\n",
    " </body>\n",
    "\"\"\""
   ]
  },
  {
   "cell_type": "code",
   "execution_count": 33,
   "metadata": {
    "collapsed": true,
    "slideshow": {
     "slide_type": "fragment"
    }
   },
   "outputs": [],
   "source": [
    "soup = BeautifulSoup(html)"
   ]
  },
  {
   "cell_type": "code",
   "execution_count": 34,
   "metadata": {
    "collapsed": false,
    "slideshow": {
     "slide_type": "fragment"
    }
   },
   "outputs": [
    {
     "data": {
      "text/plain": [
       "<p>Ceci est une phrase avec un <a href=\"cible.html\">hyperlien</a>.</p>"
      ]
     },
     "execution_count": 34,
     "metadata": {},
     "output_type": "execute_result"
    }
   ],
   "source": [
    "soup.find(\"p\")  # premier <p>"
   ]
  },
  {
   "cell_type": "code",
   "execution_count": 35,
   "metadata": {
    "collapsed": false,
    "slideshow": {
     "slide_type": "fragment"
    }
   },
   "outputs": [
    {
     "data": {
      "text/plain": [
       "[<p>Ceci est une phrase avec un <a href=\"cible.html\">hyperlien</a>.</p>,\n",
       " <p>Ceci est un paragraphe o\\xf9 il n\\u2019y a pas d\\u2019hyperlien.</p>,\n",
       " <p class=\"style\">Ceci est un autre paragraphe <b>qui contient du text en gras</b>\\n     et <a href=\"http://perdu.com\">un autre lien</a>\\n</p>]"
      ]
     },
     "execution_count": 35,
     "metadata": {},
     "output_type": "execute_result"
    }
   ],
   "source": [
    "soup.find_all(\"p\")"
   ]
  },
  {
   "cell_type": "code",
   "execution_count": 36,
   "metadata": {
    "collapsed": false,
    "slideshow": {
     "slide_type": "subslide"
    }
   },
   "outputs": [
    {
     "name": "stdout",
     "output_type": "stream",
     "text": [
      "\n",
      "<head>\n",
      "<title>\n",
      "   Exemple de HTML\n",
      "  </title>\n",
      "</head>\n",
      "<body>\n",
      "<p>Ceci est une phrase avec un <a href=\"cible.html\">hyperlien</a>.</p>\n",
      "<p>Ceci est un paragraphe où il n’y a pas d’hyperlien.</p>\n",
      "<p class=\"style\">Ceci est un autre paragraphe <b>qui contient du text en gras</b>\n",
      "     et <a href=\"http://perdu.com\">un autre lien</a>\n",
      "</p>\n",
      "</body>\n",
      "\n"
     ]
    }
   ],
   "source": [
    "print soup"
   ]
  },
  {
   "cell_type": "code",
   "execution_count": 37,
   "metadata": {
    "collapsed": false,
    "slideshow": {
     "slide_type": "fragment"
    }
   },
   "outputs": [
    {
     "data": {
      "text/plain": [
       "<a href=\"cible.html\">hyperlien</a>"
      ]
     },
     "execution_count": 37,
     "metadata": {},
     "output_type": "execute_result"
    }
   ],
   "source": [
    "soup.find(\"a\")"
   ]
  },
  {
   "cell_type": "code",
   "execution_count": 38,
   "metadata": {
    "collapsed": false,
    "slideshow": {
     "slide_type": "fragment"
    }
   },
   "outputs": [
    {
     "data": {
      "text/plain": [
       "<a href=\"http://perdu.com\">un autre lien</a>"
      ]
     },
     "execution_count": 38,
     "metadata": {},
     "output_type": "execute_result"
    }
   ],
   "source": [
    "soup.find(\"a\", href=\"http://perdu.com\")"
   ]
  },
  {
   "cell_type": "code",
   "execution_count": 39,
   "metadata": {
    "collapsed": false,
    "slideshow": {
     "slide_type": "fragment"
    }
   },
   "outputs": [
    {
     "data": {
      "text/plain": [
       "<p class=\"style\">Ceci est un autre paragraphe <b>qui contient du text en gras</b>\\n     et <a href=\"http://perdu.com\">un autre lien</a>\\n</p>"
      ]
     },
     "execution_count": 39,
     "metadata": {},
     "output_type": "execute_result"
    }
   ],
   "source": [
    "soup.find(\"p\", \"style\")  # \"class\" est un mot clef réservé en python"
   ]
  },
  {
   "cell_type": "markdown",
   "metadata": {
    "slideshow": {
     "slide_type": "subslide"
    }
   },
   "source": [
    "# Parser de l'HTML : extraire les informations"
   ]
  },
  {
   "cell_type": "code",
   "execution_count": 41,
   "metadata": {
    "collapsed": false,
    "slideshow": {
     "slide_type": "fragment"
    }
   },
   "outputs": [
    {
     "data": {
      "text/plain": [
       "u'cible.html'"
      ]
     },
     "execution_count": 41,
     "metadata": {},
     "output_type": "execute_result"
    }
   ],
   "source": [
    "soup.find(\"a\")[\"href\"]"
   ]
  },
  {
   "cell_type": "code",
   "execution_count": 45,
   "metadata": {
    "collapsed": false,
    "slideshow": {
     "slide_type": "fragment"
    }
   },
   "outputs": [
    {
     "data": {
      "text/plain": [
       "u'Ceci est une phrase avec un hyperlien.'"
      ]
     },
     "execution_count": 45,
     "metadata": {},
     "output_type": "execute_result"
    }
   ],
   "source": [
    "soup.find(\"p\").text"
   ]
  },
  {
   "cell_type": "code",
   "execution_count": 49,
   "metadata": {
    "collapsed": false,
    "slideshow": {
     "slide_type": "fragment"
    }
   },
   "outputs": [
    {
     "data": {
      "text/plain": [
       "[u'Ceci est une phrase avec un ', <a href=\"cible.html\">hyperlien</a>, u'.']"
      ]
     },
     "execution_count": 49,
     "metadata": {},
     "output_type": "execute_result"
    }
   ],
   "source": [
    "soup.find(\"p\").contents"
   ]
  },
  {
   "cell_type": "code",
   "execution_count": 51,
   "metadata": {
    "collapsed": false,
    "slideshow": {
     "slide_type": "fragment"
    }
   },
   "outputs": [
    {
     "name": "stdout",
     "output_type": "stream",
     "text": [
      "[<p>Ceci est une phrase avec un <a href=\"cible.html\">hyperlien</a>.</p>, <p>Ceci est un paragraphe o\\xf9 il n\\u2019y a pas d\\u2019hyperlien.</p>, <p class=\"style\">Ceci est un autre paragraphe <b>qui contient du text en gras</b>\\n     et <a href=\"http://perdu.com\">un autre lien</a>\\n</p>]\n"
     ]
    }
   ],
   "source": [
    "result = []\n",
    "for p in soup.find_all(\"p\"):\n",
    "    result.append(p)\n",
    "    \n",
    "print result"
   ]
  },
  {
   "cell_type": "markdown",
   "metadata": {
    "slideshow": {
     "slide_type": "subslide"
    }
   },
   "source": [
    "# Parser de l'HTML : autres trucs et astuces"
   ]
  },
  {
   "cell_type": "code",
   "execution_count": 52,
   "metadata": {
    "collapsed": false
   },
   "outputs": [
    {
     "data": {
      "text/plain": [
       "[<p class=\"style\">Ceci est un autre paragraphe <b>qui contient du text en gras</b>\\n     et <a href=\"http://perdu.com\">un autre lien</a>\\n</p>]"
      ]
     },
     "execution_count": 52,
     "metadata": {},
     "output_type": "execute_result"
    }
   ],
   "source": [
    "# shortcuts\n",
    "soup.p == soup.find(\"p\")\n",
    "soup(\"p\") == soup.find_all(\"p\")\n",
    "\n",
    "# in other cases\n",
    "soup.next_sibling\n",
    "soup.next_siblings\n",
    "\n",
    "# css selector\n",
    "soup.select\n",
    "soup.select(\".style\")"
   ]
  },
  {
   "cell_type": "markdown",
   "metadata": {
    "slideshow": {
     "slide_type": "slide"
    }
   },
   "source": [
    "# HTTP : parler à un site web"
   ]
  },
  {
   "cell_type": "markdown",
   "metadata": {
    "slideshow": {
     "slide_type": "subslide"
    }
   },
   "source": [
    "# HTTP : parler à un site web\n",
    "\n",
    "Rappel:\n",
    "\n",
    "![http.png](http.png)"
   ]
  },
  {
   "cell_type": "markdown",
   "metadata": {
    "slideshow": {
     "slide_type": "subslide"
    }
   },
   "source": [
    "# HTTP : parler à un site web\n",
    "\n",
    "Dans la librairie python standard: urllib2.\n",
    "\n",
    "Usage:"
   ]
  },
  {
   "cell_type": "code",
   "execution_count": null,
   "metadata": {
    "collapsed": true
   },
   "outputs": [],
   "source": [
    "from urllib2 import urlopen\n",
    "\n",
    "html = urlopen(\"http://neutrinet.be/index.php\").read()  # renvoie un string\n",
    "soup = BeautifulSoup(html)"
   ]
  },
  {
   "cell_type": "markdown",
   "metadata": {
    "slideshow": {
     "slide_type": "subslide"
    }
   },
   "source": [
    "# Demo\n",
    "\n",
    "Parser les événements de http://neutrinet.be/index.php?title=Past_Events (avec présentation des outils de débug des navigateurs)"
   ]
  },
  {
   "cell_type": "code",
   "execution_count": 57,
   "metadata": {
    "collapsed": false,
    "slideshow": {
     "slide_type": "subslide"
    }
   },
   "outputs": [
    {
     "data": {
      "text/plain": [
       "<tr>\\n<td><a href=\"/index.php?title=Event:Meeting_2016/03\" title=\"Event:Meeting 2016/03\">Meeting 2016/03</a> </td>\\n<td> 25 February 2016 19:30:00 </td>\\n<td> </td>\\n<td> bram </td>\\n<td> 123 rue royale 1000 Bruxelles Belgique\\n</td></tr>"
      ]
     },
     "execution_count": 57,
     "metadata": {},
     "output_type": "execute_result"
    }
   ],
   "source": [
    "from urllib2 import urlopen\n",
    "from bs4 import BeautifulSoup\n",
    "\n",
    "\n",
    "\"\"\"\n",
    "<table>\n",
    "  <tr>\n",
    "    <td>colonne 1</td>\n",
    "    <td>colonne 2</td>\n",
    "  </tr>\n",
    "</table>\n",
    "\"\"\"\n",
    "\n",
    "soup = BeautifulSoup(urlopen(\"http://neutrinet.be/index.php?title=Past_Events\").read())\n",
    "\n",
    "line = soup.find(\"table\").find_all(\"tr\")[1]\n",
    "line"
   ]
  },
  {
   "cell_type": "code",
   "execution_count": 59,
   "metadata": {
    "collapsed": false
   },
   "outputs": [
    {
     "data": {
      "text/plain": [
       "u'Meeting 2016/03'"
      ]
     },
     "execution_count": 59,
     "metadata": {},
     "output_type": "execute_result"
    }
   ],
   "source": [
    "line.find(\"a\").text  # line.a.text"
   ]
  },
  {
   "cell_type": "code",
   "execution_count": 60,
   "metadata": {
    "collapsed": false
   },
   "outputs": [
    {
     "data": {
      "text/plain": [
       "u'/index.php?title=Event:Meeting_2016/03'"
      ]
     },
     "execution_count": 60,
     "metadata": {},
     "output_type": "execute_result"
    }
   ],
   "source": [
    "line.find(\"a\")[\"href\"]"
   ]
  },
  {
   "cell_type": "code",
   "execution_count": 62,
   "metadata": {
    "collapsed": false
   },
   "outputs": [
    {
     "data": {
      "text/plain": [
       "u'25 February 2016 19:30:00'"
      ]
     },
     "execution_count": 62,
     "metadata": {},
     "output_type": "execute_result"
    }
   ],
   "source": [
    "line.find_all(\"td\")[1].text.strip()"
   ]
  },
  {
   "cell_type": "markdown",
   "metadata": {
    "slideshow": {
     "slide_type": "slide"
    }
   },
   "source": [
    "# HTTP : GET vs POST"
   ]
  },
  {
   "cell_type": "markdown",
   "metadata": {
    "slideshow": {
     "slide_type": "subslide"
    }
   },
   "source": [
    "![get_post.jpg](get_post.jpg)"
   ]
  },
  {
   "cell_type": "markdown",
   "metadata": {
    "slideshow": {
     "slide_type": "subslide"
    }
   },
   "source": [
    "# HTTP : GET vs POST\n",
    "\n",
    "### GET\n",
    "\n",
    "---\n",
    "\n",
    "```shell\n",
    "$ ~ curl \"localhost:3456?query=plop&chocolat=chocapic\"\n",
    "```\n",
    "\n",
    "```shell\n",
    "# dans un autre terminal\n",
    "$ ~ nc -l 3456\n",
    "GET /?query=plop&chocolat=chocapic HTTP/1.1\n",
    "User-Agent: curl/7.35.0\n",
    "Host: localhost:3456\n",
    "Accept: */*\n",
    "```"
   ]
  },
  {
   "cell_type": "markdown",
   "metadata": {
    "slideshow": {
     "slide_type": "fragment"
    }
   },
   "source": [
    "### POST\n",
    "\n",
    "---\n",
    "\n",
    "```bash\n",
    "$ ~ curl -X POST localhost:3456 --data \"query=plop&chocolat=chocapic\"\n",
    "```\n",
    "\n",
    "\n",
    "```bash\n",
    "# dans un autre terminal\n",
    "$ ~ nc -l 3456\n",
    "POST / HTTP/1.1\n",
    "User-Agent: curl/7.35.0\n",
    "Host: localhost:3456\n",
    "Accept: */*\n",
    "Content-Length: 28\n",
    "Content-Type: application/x-www-form-urlencoded\n",
    "\n",
    "query=plop&chocolat=chocapic\n",
    "```"
   ]
  },
  {
   "cell_type": "markdown",
   "metadata": {
    "slideshow": {
     "slide_type": "subslide"
    }
   },
   "source": [
    "# HTTP : requests\n",
    "\n",
    "urllib2 est juste trop pourri et compliqué, requests a une super api en comparaison."
   ]
  },
  {
   "cell_type": "code",
   "execution_count": null,
   "metadata": {
    "collapsed": true
   },
   "outputs": [],
   "source": [
    "import requests"
   ]
  },
  {
   "cell_type": "code",
   "execution_count": 76,
   "metadata": {
    "collapsed": false,
    "slideshow": {
     "slide_type": "fragment"
    }
   },
   "outputs": [],
   "source": [
    "# +- même résultat que urlopen de urllib2\n",
    "result = requests.get(\"http://localhost:3456/?query=plop&chocolat=chocapic\")"
   ]
  },
  {
   "cell_type": "code",
   "execution_count": 74,
   "metadata": {
    "collapsed": false,
    "slideshow": {
     "slide_type": "fragment"
    }
   },
   "outputs": [],
   "source": [
    "result = requests.post(\"http://localhost:3456\", data={\"query\": \"plop\", \"chocolat\": \"chocapic\"})"
   ]
  },
  {
   "cell_type": "code",
   "execution_count": 75,
   "metadata": {
    "collapsed": false,
    "slideshow": {
     "slide_type": "fragment"
    }
   },
   "outputs": [],
   "source": [
    "result.content;\n",
    "result.json;"
   ]
  },
  {
   "cell_type": "markdown",
   "metadata": {
    "slideshow": {
     "slide_type": "subslide"
    }
   },
   "source": [
    "# Demo de request.POST\n",
    "\n",
    "Sur https://searx.laquadrature.net/ (montrer le ```<form method=\"POST\">```)"
   ]
  },
  {
   "cell_type": "code",
   "execution_count": 79,
   "metadata": {
    "collapsed": false,
    "slideshow": {
     "slide_type": "fragment"
    }
   },
   "outputs": [
    {
     "data": {
      "text/plain": [
       "'\\n<!DOCTYPE html>\\n<html lang=\"en\" dir=\"ltr\">\\n  <head>\\n<meta http-equiv=\"Content-Type\" content=\"text/html; charset=utf-8\" />\\n    <meta http-equiv=\"Content-Type\" content=\"text/html; charset=utf-8\" />\\n<link rel=\"shortcut icon\" href=\"/sites/all/themes/lqdn314/favicon.ico\" type=\"image/x-icon\" />\\n    <title>La Quadrature du Net | Internet & Libert\\xc3\\xa9s</title>\\n    <link type=\"text/css\" rel=\"stylesheet\" media=\"all\" href=\"/files/css/css_060c22dd12a8dd25468cddda52d64bb9.css\" />\\n        <script type=\"text/ja'"
      ]
     },
     "execution_count": 79,
     "metadata": {},
     "output_type": "execute_result"
    }
   ],
   "source": [
    "import requests\n",
    "\n",
    "result = requests.post(\"https://laquadrature.net\", data={\"q\": \"chocolat\"})\n",
    "\n",
    "result.content[:500]"
   ]
  },
  {
   "cell_type": "markdown",
   "metadata": {
    "slideshow": {
     "slide_type": "slide"
    }
   },
   "source": [
    "# HTTP : AJAX"
   ]
  },
  {
   "cell_type": "markdown",
   "metadata": {
    "slideshow": {
     "slide_type": "subslide"
    }
   },
   "source": [
    "# HTTP : AJAX\n",
    "\n",
    "![ajax.png](ajax.png)"
   ]
  },
  {
   "cell_type": "markdown",
   "metadata": {
    "slideshow": {
     "slide_type": "fragment"
    }
   },
   "source": [
    "Exemple en javascript/jquery:\n",
    "\n",
    "```javascript\n",
    "$.get(\"/stuff.json\").success(function(data) { /* do some stuff */ })\n",
    "```"
   ]
  },
  {
   "cell_type": "markdown",
   "metadata": {
    "slideshow": {
     "slide_type": "subslide"
    }
   },
   "source": [
    "# HTTP : AJAX\n",
    "![ajax2.png](ajax2.png)"
   ]
  },
  {
   "cell_type": "markdown",
   "metadata": {
    "slideshow": {
     "slide_type": "slide"
    }
   },
   "source": [
    "# Robobrowser : stimulate a browser behavior"
   ]
  },
  {
   "cell_type": "markdown",
   "metadata": {
    "slideshow": {
     "slide_type": "subslide"
    }
   },
   "source": [
    "# Robobrowser : stimulate a browser behavior\n",
    "\n",
    "Comme mechanize mais avec requests et BeautifulSoup. Conserve les sessions et parser les liens pour vous.\n",
    "\n",
    "```python\n",
    "from robobrowser import RoboBrowser\n",
    "\n",
    "browser = RoboBrowser(history=True)\n",
    "browser.open('http://website.com/')\n",
    "\n",
    "# comme .find() pour les arguments\n",
    "form = browser.get_form(action='/search')\n",
    "\n",
    "form                # <RoboForm q=>\n",
    "form['q'].value = 'porcupine tree'\n",
    "browser.submit_form(form)\n",
    "\n",
    "# comme beautifulsoup\n",
    "browser.find\n",
    "browser.find_all\n",
    "\n",
    "# suivre des liens\n",
    "browser.follow_link(browser.find(\"a\"))\n",
    "\n",
    "# comme un navigateur\n",
    "browser.back()\n",
    "```"
   ]
  },
  {
   "cell_type": "markdown",
   "metadata": {
    "slideshow": {
     "slide_type": "subslide"
    }
   },
   "source": [
    "En plus léger, voir les Sessions de request: http://docs.python-requests.org/en/master/user/advanced/#session-objects\n",
    "\n",
    "```python\n",
    "import requests\n",
    "\n",
    "s = requests.Session()\n",
    "\n",
    "s.get('http://httpbin.org/cookies/set/sessioncookie/123456789')\n",
    "r = s.get('http://httpbin.org/cookies')\n",
    "\n",
    "print(r.text)\n",
    "# '{\"cookies\": {\"sessioncookie\": \"123456789\"}}'\n",
    "```"
   ]
  }
 ],
 "metadata": {
  "celltoolbar": "Slideshow",
  "kernelspec": {
   "display_name": "Python 2",
   "language": "python",
   "name": "python2"
  },
  "language_info": {
   "codemirror_mode": {
    "name": "ipython",
    "version": 2
   },
   "file_extension": ".py",
   "mimetype": "text/x-python",
   "name": "python",
   "nbconvert_exporter": "python",
   "pygments_lexer": "ipython2",
   "version": "2.7.6"
  }
 },
 "nbformat": 4,
 "nbformat_minor": 0
}
