{
 "cells": [
  {
   "cell_type": "markdown",
   "metadata": {
    "slideshow": {
     "slide_type": "slide"
    }
   },
   "source": [
    "# Comment parser et script le web en python\n"
   ]
  },
  {
   "cell_type": "markdown",
   "metadata": {
    "slideshow": {
     "slide_type": "slide"
    }
   },
   "source": [
    "# Comment parser et script le web en python\n",
    "\n",
    "#### Parser: extraire des informations d'une source\n",
    "\n",
    "#### Scripter: automatiser un comportement"
   ]
  },
  {
   "cell_type": "markdown",
   "metadata": {
    "slideshow": {
     "slide_type": "slide"
    }
   },
   "source": [
    "But de la conférence : introduction au scripting et parsing du web en python avec des pistes pour les usages avancés.\n",
    "\n",
    "Outils présentés:\n",
    "\n",
    "* beautifulsoup (4)\n",
    "* urllib(2)\n",
    "* requests\n",
    "* robobrowser (amélioration de mechanize)\n",
    "* firebug/celui par défaut/de chrome\n",
    "* ipython-beautifulsoup"
   ]
  },
  {
   "cell_type": "markdown",
   "metadata": {
    "slideshow": {
     "slide_type": "slide"
    }
   },
   "source": [
    "# Le web: HTTP + HTML\n"
   ]
  },
  {
   "cell_type": "markdown",
   "metadata": {
    "slideshow": {
     "slide_type": "subslide"
    }
   },
   "source": [
    "# HTML"
   ]
  },
  {
   "cell_type": "markdown",
   "metadata": {
    "slideshow": {
     "slide_type": "fragment"
    }
   },
   "source": [
    "## Structure générale :\n",
    "\n",
    "```html\n",
    "<tag>\n",
    "</tag>\n",
    "```"
   ]
  },
  {
   "cell_type": "markdown",
   "metadata": {
    "slideshow": {
     "slide_type": "fragment"
    }
   },
   "source": [
    "```html\n",
    "<tag>\n",
    "    <sous_tag>\n",
    "    </sous_tag>\n",
    "</tag>\n",
    "```"
   ]
  },
  {
   "cell_type": "markdown",
   "metadata": {
    "slideshow": {
     "slide_type": "fragment"
    }
   },
   "source": [
    "```html\n",
    "<tag_auto_fermant />\n",
    "<aussi_valide_desormait>\n",
    "```"
   ]
  },
  {
   "cell_type": "markdown",
   "metadata": {
    "slideshow": {
     "slide_type": "fragment"
    }
   },
   "source": [
    "```html\n",
    "<tag_avec_attributs attribute=\"valeur\" autre_attribut=\"pouet\">\n",
    "</tag_avec_attributs>\n",
    "```"
   ]
  },
  {
   "cell_type": "markdown",
   "metadata": {
    "collapsed": true,
    "slideshow": {
     "slide_type": "subslide"
    }
   },
   "source": [
    "# HTML\n",
    "\n",
    "## Exemple d'une page web classique\n",
    "\n",
    "```html\n",
    "<!DOCTYPE html>\n",
    "<html>\n",
    " <head>\n",
    "  <title>\n",
    "   Exemple de HTML\n",
    "  </title>\n",
    " </head>\n",
    " <body>\n",
    "  Ceci est une phrase avec un <a href=\"cible.html\">hyperlien</a>.\n",
    "  <p>\n",
    "   Ceci est un paragraphe où il n’y a pas d’hyperlien.\n",
    "  </p>\n",
    " </body>\n",
    "</html>\n",
    "```"
   ]
  },
  {
   "cell_type": "markdown",
   "metadata": {
    "slideshow": {
     "slide_type": "slide"
    }
   },
   "source": [
    "# HTTP"
   ]
  },
  {
   "cell_type": "markdown",
   "metadata": {
    "slideshow": {
     "slide_type": "subslide"
    }
   },
   "source": [
    "# HTTP\n",
    "\n",
    "![http.png](http.png)"
   ]
  },
  {
   "cell_type": "markdown",
   "metadata": {
    "slideshow": {
     "slide_type": "subslide"
    }
   },
   "source": [
    "# HTTP : Exemple d'échange\n",
    "\n",
    "Client :\n",
    "```\n",
    "GET / HTTP/1.1\n",
    "User-Agent: curl/7.35.0\n",
    "Host: 0.0.0.0:5000\n",
    "Accept: */*\n",
    "\n",
    "```\n",
    "\n",
    "Serveur :\n",
    "```html\n",
    "HTTP/1.0 200 OK\n",
    "Server: SimpleHTTP/0.6 Python/2.7.6\n",
    "Date: Sun, 06 Mar 2016 18:35:04 GMT\n",
    "Content-type: text/html; charset=UTF-8\n",
    "Content-Length: 450\n",
    " \n",
    "<!DOCTYPE html PUBLIC \"-//W3C//DTD HTML 3.2 Final//EN\"><html>\n",
    "<title>Directory listing for /</title>\n",
    "<body>\n",
    "<h2>Directory listing for /</h2>\n",
    "<hr>\n",
    "<ul>\n",
    "<li><a href=\".ipynb_checkpoints/\">.ipynb_checkpoints/</a>\n",
    "<li><a href=\"http.png\">http.png</a>\n",
    "<li><a href=\"requirements.txt\">requirements.txt</a>\n",
    "<li><a href=\"slides.ipynb\">slides.ipynb</a>\n",
    "<li><a href=\"slides.slides.html\">slides.slides.html</a>\n",
    "<li><a href=\"ve/\">ve/</a>\n",
    "</ul>\n",
    "<hr>\n",
    "</body>\n",
    "</html>\n",
    "```"
   ]
  },
  {
   "cell_type": "markdown",
   "metadata": {
    "slideshow": {
     "slide_type": "subslide"
    }
   },
   "source": [
    "# HTTP: démo avec nc (netcat)\n",
    "\n",
    "```html\n",
    "psycojoker@dolgoff ~ nc -l 5000\n",
    "GET / HTTP/1.1\n",
    "Host: localhost:5000\n",
    "Connection: keep-alive\n",
    "Cache-Control: max-age=0\n",
    "Accept: text/html,application/xhtml+xml,application/xml;q=0.9,image/webp,*/*;q=0.8\n",
    "Upgrade-Insecure-Requests: 1\n",
    "User-Agent: Mozilla/5.0 (X11; Linux x86_64) AppleWebKit/537.36 (KHTML, like Gecko) Ubuntu Chromium/48.0.2564.82 Chrome/48.0.2564.82 Safari/537.36\n",
    "Accept-Encoding: gzip, deflate, sdch\n",
    "Accept-Language: fr-FR,fr;q=0.8,en-US;q=0.6,en;q=0.4\n",
    "Cookie: csrftoken=PDY9ZJdnPufZJebI3cGrWEi3JeczTlJw\n",
    "\n",
    "HTTP/1.0 200 OK\n",
    "Server: SimpleHTTP/0.6 Python/2.7.6\n",
    "Date: Sun, 06 Mar 2016 18:35:04 GMT\n",
    "Content-type: text/html; charset=UTF-8\n",
    "Content-Length: 450\n",
    "\n",
    "<p>Salut toi!</p>\n",
    "```"
   ]
  },
  {
   "cell_type": "markdown",
   "metadata": {
    "slideshow": {
     "slide_type": "slide"
    }
   },
   "source": [
    "# Parser de l'html: BeautifulSoup"
   ]
  },
  {
   "cell_type": "markdown",
   "metadata": {
    "slideshow": {
     "slide_type": "subslide"
    }
   },
   "source": [
    "# Parser de l'html : BeautifulSoup\n",
    "\n",
    "Transforme de l'html (une structure de donnée) en objects.\n",
    "\n",
    "Installation:\n",
    "\n",
    "\n",
    "    pip install bs4  # \"beautifulsoup\" est le package de l'ancienne version\n",
    "       "
   ]
  },
  {
   "cell_type": "markdown",
   "metadata": {
    "slideshow": {
     "slide_type": "subslide"
    }
   },
   "source": [
    "# Parser de l'html : BeautifulSoup\n",
    "\n",
    "Utilisation:"
   ]
  },
  {
   "cell_type": "code",
   "execution_count": 19,
   "metadata": {
    "collapsed": false,
    "slideshow": {
     "slide_type": "-"
    }
   },
   "outputs": [],
   "source": [
    "from bs4 import BeautifulSoup\n",
    "\n",
    "soup = BeautifulSoup(\"<p>du super <b>html !</b></p>\", \"html.parser\")"
   ]
  },
  {
   "cell_type": "code",
   "execution_count": 20,
   "metadata": {
    "collapsed": false
   },
   "outputs": [
    {
     "name": "stdout",
     "output_type": "stream",
     "text": [
      "<p>du super <b>html !</b></p>\n"
     ]
    }
   ],
   "source": [
    "print soup"
   ]
  },
  {
   "cell_type": "code",
   "execution_count": 21,
   "metadata": {
    "collapsed": false,
    "slideshow": {
     "slide_type": "fragment"
    }
   },
   "outputs": [
    {
     "name": "stdout",
     "output_type": "stream",
     "text": [
      "<p>\n",
      " du super\n",
      " <b>\n",
      "  html !\n",
      " </b>\n",
      "</p>\n"
     ]
    }
   ],
   "source": [
    "print soup.prettify()"
   ]
  },
  {
   "cell_type": "markdown",
   "metadata": {
    "slideshow": {
     "slide_type": "subslide"
    }
   },
   "source": [
    "# Parser de l'html : query"
   ]
  },
  {
   "cell_type": "code",
   "execution_count": 32,
   "metadata": {
    "collapsed": true
   },
   "outputs": [],
   "source": [
    "html = \"\"\"\n",
    " <head>\n",
    "  <title>\n",
    "   Exemple de HTML\n",
    "  </title>\n",
    " </head>\n",
    " <body>\n",
    "  <p>Ceci est une phrase avec un <a href=\"cible.html\">hyperlien</a>.</p>\n",
    "  <p>Ceci est un paragraphe où il n’y a pas d’hyperlien.</p>\n",
    "  <p class=\"style\">Ceci est un autre paragraphe <b>qui contient du text en gras</b>\n",
    "     et <a href=\"http://perdu.com\">un autre lien</a>\n",
    "  </p>\n",
    " </body>\n",
    "\"\"\""
   ]
  },
  {
   "cell_type": "code",
   "execution_count": 33,
   "metadata": {
    "collapsed": true,
    "slideshow": {
     "slide_type": "fragment"
    }
   },
   "outputs": [],
   "source": [
    "soup = BeautifulSoup(html)"
   ]
  },
  {
   "cell_type": "code",
   "execution_count": 34,
   "metadata": {
    "collapsed": false,
    "slideshow": {
     "slide_type": "fragment"
    }
   },
   "outputs": [
    {
     "data": {
      "text/plain": [
       "<p>Ceci est une phrase avec un <a href=\"cible.html\">hyperlien</a>.</p>"
      ]
     },
     "execution_count": 34,
     "metadata": {},
     "output_type": "execute_result"
    }
   ],
   "source": [
    "soup.find(\"p\")  # premier <p>"
   ]
  },
  {
   "cell_type": "code",
   "execution_count": 35,
   "metadata": {
    "collapsed": false,
    "slideshow": {
     "slide_type": "fragment"
    }
   },
   "outputs": [
    {
     "data": {
      "text/plain": [
       "[<p>Ceci est une phrase avec un <a href=\"cible.html\">hyperlien</a>.</p>,\n",
       " <p>Ceci est un paragraphe o\\xf9 il n\\u2019y a pas d\\u2019hyperlien.</p>,\n",
       " <p class=\"style\">Ceci est un autre paragraphe <b>qui contient du text en gras</b>\\n     et <a href=\"http://perdu.com\">un autre lien</a>\\n</p>]"
      ]
     },
     "execution_count": 35,
     "metadata": {},
     "output_type": "execute_result"
    }
   ],
   "source": [
    "soup.find_all(\"p\")"
   ]
  },
  {
   "cell_type": "code",
   "execution_count": 36,
   "metadata": {
    "collapsed": false,
    "slideshow": {
     "slide_type": "subslide"
    }
   },
   "outputs": [
    {
     "name": "stdout",
     "output_type": "stream",
     "text": [
      "\n",
      "<head>\n",
      "<title>\n",
      "   Exemple de HTML\n",
      "  </title>\n",
      "</head>\n",
      "<body>\n",
      "<p>Ceci est une phrase avec un <a href=\"cible.html\">hyperlien</a>.</p>\n",
      "<p>Ceci est un paragraphe où il n’y a pas d’hyperlien.</p>\n",
      "<p class=\"style\">Ceci est un autre paragraphe <b>qui contient du text en gras</b>\n",
      "     et <a href=\"http://perdu.com\">un autre lien</a>\n",
      "</p>\n",
      "</body>\n",
      "\n"
     ]
    }
   ],
   "source": [
    "print soup"
   ]
  },
  {
   "cell_type": "code",
   "execution_count": 37,
   "metadata": {
    "collapsed": false,
    "slideshow": {
     "slide_type": "fragment"
    }
   },
   "outputs": [
    {
     "data": {
      "text/plain": [
       "<a href=\"cible.html\">hyperlien</a>"
      ]
     },
     "execution_count": 37,
     "metadata": {},
     "output_type": "execute_result"
    }
   ],
   "source": [
    "soup.find(\"a\")"
   ]
  },
  {
   "cell_type": "code",
   "execution_count": 38,
   "metadata": {
    "collapsed": false,
    "slideshow": {
     "slide_type": "fragment"
    }
   },
   "outputs": [
    {
     "data": {
      "text/plain": [
       "<a href=\"http://perdu.com\">un autre lien</a>"
      ]
     },
     "execution_count": 38,
     "metadata": {},
     "output_type": "execute_result"
    }
   ],
   "source": [
    "soup.find(\"a\", href=\"http://perdu.com\")"
   ]
  },
  {
   "cell_type": "code",
   "execution_count": 39,
   "metadata": {
    "collapsed": false,
    "slideshow": {
     "slide_type": "fragment"
    }
   },
   "outputs": [
    {
     "data": {
      "text/plain": [
       "<p class=\"style\">Ceci est un autre paragraphe <b>qui contient du text en gras</b>\\n     et <a href=\"http://perdu.com\">un autre lien</a>\\n</p>"
      ]
     },
     "execution_count": 39,
     "metadata": {},
     "output_type": "execute_result"
    }
   ],
   "source": [
    "soup.find(\"p\", \"style\")  # \"class\" est un mot clef réservé en python"
   ]
  },
  {
   "cell_type": "markdown",
   "metadata": {
    "slideshow": {
     "slide_type": "subslide"
    }
   },
   "source": [
    "# Parser de l'HTML : extraire les informations"
   ]
  },
  {
   "cell_type": "code",
   "execution_count": 41,
   "metadata": {
    "collapsed": false,
    "slideshow": {
     "slide_type": "fragment"
    }
   },
   "outputs": [
    {
     "data": {
      "text/plain": [
       "u'cible.html'"
      ]
     },
     "execution_count": 41,
     "metadata": {},
     "output_type": "execute_result"
    }
   ],
   "source": [
    "soup.find(\"a\")[\"href\"]"
   ]
  },
  {
   "cell_type": "code",
   "execution_count": 45,
   "metadata": {
    "collapsed": false,
    "slideshow": {
     "slide_type": "fragment"
    }
   },
   "outputs": [
    {
     "data": {
      "text/plain": [
       "u'Ceci est une phrase avec un hyperlien.'"
      ]
     },
     "execution_count": 45,
     "metadata": {},
     "output_type": "execute_result"
    }
   ],
   "source": [
    "soup.find(\"p\").text"
   ]
  },
  {
   "cell_type": "code",
   "execution_count": 49,
   "metadata": {
    "collapsed": false,
    "slideshow": {
     "slide_type": "fragment"
    }
   },
   "outputs": [
    {
     "data": {
      "text/plain": [
       "[u'Ceci est une phrase avec un ', <a href=\"cible.html\">hyperlien</a>, u'.']"
      ]
     },
     "execution_count": 49,
     "metadata": {},
     "output_type": "execute_result"
    }
   ],
   "source": [
    "soup.find(\"p\").contents"
   ]
  },
  {
   "cell_type": "code",
   "execution_count": 51,
   "metadata": {
    "collapsed": false,
    "slideshow": {
     "slide_type": "fragment"
    }
   },
   "outputs": [
    {
     "name": "stdout",
     "output_type": "stream",
     "text": [
      "[<p>Ceci est une phrase avec un <a href=\"cible.html\">hyperlien</a>.</p>, <p>Ceci est un paragraphe o\\xf9 il n\\u2019y a pas d\\u2019hyperlien.</p>, <p class=\"style\">Ceci est un autre paragraphe <b>qui contient du text en gras</b>\\n     et <a href=\"http://perdu.com\">un autre lien</a>\\n</p>]\n"
     ]
    }
   ],
   "source": [
    "result = []\n",
    "for p in soup.find_all(\"p\"):\n",
    "    result.append(p)\n",
    "    \n",
    "print result"
   ]
  },
  {
   "cell_type": "markdown",
   "metadata": {
    "slideshow": {
     "slide_type": "subslide"
    }
   },
   "source": [
    "# Parser de l'HTML : autres trucs et astuces"
   ]
  },
  {
   "cell_type": "code",
   "execution_count": 52,
   "metadata": {
    "collapsed": false
   },
   "outputs": [
    {
     "data": {
      "text/plain": [
       "[<p class=\"style\">Ceci est un autre paragraphe <b>qui contient du text en gras</b>\\n     et <a href=\"http://perdu.com\">un autre lien</a>\\n</p>]"
      ]
     },
     "execution_count": 52,
     "metadata": {},
     "output_type": "execute_result"
    }
   ],
   "source": [
    "# shortcuts\n",
    "soup.p == soup.find(\"p\")\n",
    "soup(\"p\") == soup.find_all(\"p\")\n",
    "\n",
    "# in other cases\n",
    "soup.next_sibling\n",
    "soup.next_siblings\n",
    "\n",
    "# css selector\n",
    "soup.select\n",
    "soup.select(\".style\")"
   ]
  },
  {
   "cell_type": "markdown",
   "metadata": {
    "slideshow": {
     "slide_type": "slide"
    }
   },
   "source": [
    "# HTTP : parler à un site web"
   ]
  },
  {
   "cell_type": "markdown",
   "metadata": {
    "slideshow": {
     "slide_type": "subslide"
    }
   },
   "source": [
    "# HTTP : parler à un site web\n",
    "\n",
    "Rappel:\n",
    "\n",
    "![http.png](http.png)"
   ]
  },
  {
   "cell_type": "markdown",
   "metadata": {
    "slideshow": {
     "slide_type": "subslide"
    }
   },
   "source": [
    "# HTTP : parler à un site web\n",
    "\n",
    "Dans la librairie python standard: urllib2.\n",
    "\n",
    "Usage:"
   ]
  },
  {
   "cell_type": "code",
   "execution_count": null,
   "metadata": {
    "collapsed": true
   },
   "outputs": [],
   "source": [
    "from urllib2 import urlopen\n",
    "\n",
    "html = urlopen(\"http://neutrinet.be/index.php\").read()  # renvoie un string\n",
    "soup = BeautifulSoup(html)"
   ]
  },
  {
   "cell_type": "markdown",
   "metadata": {
    "slideshow": {
     "slide_type": "subslide"
    }
   },
   "source": [
    "# Demo\n",
    "\n",
    "Parser les événements de http://neutrinet.be/index.php?title=Past_Events (avec présentation des outils de débug des navigateurs)"
   ]
  },
  {
   "cell_type": "code",
   "execution_count": 57,
   "metadata": {
    "collapsed": false,
    "slideshow": {
     "slide_type": "subslide"
    }
   },
   "outputs": [
    {
     "data": {
      "text/plain": [
       "<tr>\\n<td><a href=\"/index.php?title=Event:Meeting_2016/03\" title=\"Event:Meeting 2016/03\">Meeting 2016/03</a> </td>\\n<td> 25 February 2016 19:30:00 </td>\\n<td> </td>\\n<td> bram </td>\\n<td> 123 rue royale 1000 Bruxelles Belgique\\n</td></tr>"
      ]
     },
     "execution_count": 57,
     "metadata": {},
     "output_type": "execute_result"
    }
   ],
   "source": [
    "from urllib2 import urlopen\n",
    "from bs4 import BeautifulSoup\n",
    "\n",
    "\n",
    "\"\"\"\n",
    "<table>\n",
    "  <tr>\n",
    "    <td>colonne 1</td>\n",
    "    <td>colonne 2</td>\n",
    "  </tr>\n",
    "</table>\n",
    "\"\"\"\n",
    "\n",
    "soup = BeautifulSoup(urlopen(\"http://neutrinet.be/index.php?title=Past_Events\").read())\n",
    "\n",
    "line = soup.find(\"table\").find_all(\"tr\")[1]\n",
    "line"
   ]
  },
  {
   "cell_type": "code",
   "execution_count": 59,
   "metadata": {
    "collapsed": false
   },
   "outputs": [
    {
     "data": {
      "text/plain": [
       "u'Meeting 2016/03'"
      ]
     },
     "execution_count": 59,
     "metadata": {},
     "output_type": "execute_result"
    }
   ],
   "source": [
    "line.find(\"a\").text  # line.a.text"
   ]
  },
  {
   "cell_type": "code",
   "execution_count": 60,
   "metadata": {
    "collapsed": false
   },
   "outputs": [
    {
     "data": {
      "text/plain": [
       "u'/index.php?title=Event:Meeting_2016/03'"
      ]
     },
     "execution_count": 60,
     "metadata": {},
     "output_type": "execute_result"
    }
   ],
   "source": [
    "line.find(\"a\")[\"href\"]"
   ]
  },
  {
   "cell_type": "code",
   "execution_count": 62,
   "metadata": {
    "collapsed": false
   },
   "outputs": [
    {
     "data": {
      "text/plain": [
       "u'25 February 2016 19:30:00'"
      ]
     },
     "execution_count": 62,
     "metadata": {},
     "output_type": "execute_result"
    }
   ],
   "source": [
    "line.find_all(\"td\")[1].text.strip()"
   ]
  },
  {
   "cell_type": "markdown",
   "metadata": {
    "slideshow": {
     "slide_type": "slide"
    }
   },
   "source": [
    "# HTTP : GET vs POST"
   ]
  },
  {
   "cell_type": "markdown",
   "metadata": {
    "slideshow": {
     "slide_type": "subslide"
    }
   },
   "source": [
    "![get_post.jpg](get_post.jpg)"
   ]
  },
  {
   "cell_type": "markdown",
   "metadata": {
    "slideshow": {
     "slide_type": "subslide"
    }
   },
   "source": [
    "# HTTP : GET vs POST\n",
    "\n",
    "### GET\n",
    "\n",
    "---\n",
    "\n",
    "```shell\n",
    "$ ~ curl \"localhost:3456?query=plop&chocolat=chocapic\"\n",
    "```\n",
    "\n",
    "```shell\n",
    "# dans un autre terminal\n",
    "$ ~ nc -l 3456\n",
    "GET /?query=plop&chocolat=chocapic HTTP/1.1\n",
    "User-Agent: curl/7.35.0\n",
    "Host: localhost:3456\n",
    "Accept: */*\n",
    "```"
   ]
  },
  {
   "cell_type": "markdown",
   "metadata": {
    "slideshow": {
     "slide_type": "fragment"
    }
   },
   "source": [
    "### POST\n",
    "\n",
    "---\n",
    "\n",
    "```bash\n",
    "$ ~ curl -X POST localhost:3456 --data \"query=plop&chocolat=chocapic\"\n",
    "```\n",
    "\n",
    "\n",
    "```bash\n",
    "# dans un autre terminal\n",
    "$ ~ nc -l 3456\n",
    "POST / HTTP/1.1\n",
    "User-Agent: curl/7.35.0\n",
    "Host: localhost:3456\n",
    "Accept: */*\n",
    "Content-Length: 28\n",
    "Content-Type: application/x-www-form-urlencoded\n",
    "\n",
    "query=plop&chocolat=chocapic\n",
    "```"
   ]
  },
  {
   "cell_type": "markdown",
   "metadata": {
    "slideshow": {
     "slide_type": "subslide"
    }
   },
   "source": [
    "# HTTP : requests\n",
    "\n",
    "urllib2 est juste trop pourri et compliqué, requests a une super api en comparaison.\n",
    "\n",
    "http://docs.python-requests.org"
   ]
  },
  {
   "cell_type": "code",
   "execution_count": null,
   "metadata": {
    "collapsed": true
   },
   "outputs": [],
   "source": [
    "import requests"
   ]
  },
  {
   "cell_type": "code",
   "execution_count": 76,
   "metadata": {
    "collapsed": false,
    "slideshow": {
     "slide_type": "fragment"
    }
   },
   "outputs": [],
   "source": [
    "# +- même résultat que urlopen de urllib2\n",
    "result = requests.get(\"http://localhost:3456/?query=plop&chocolat=chocapic\")"
   ]
  },
  {
   "cell_type": "code",
   "execution_count": 74,
   "metadata": {
    "collapsed": false,
    "slideshow": {
     "slide_type": "fragment"
    }
   },
   "outputs": [],
   "source": [
    "result = requests.post(\"http://localhost:3456\", data={\"query\": \"plop\", \"chocolat\": \"chocapic\"})"
   ]
  },
  {
   "cell_type": "code",
   "execution_count": 75,
   "metadata": {
    "collapsed": false,
    "slideshow": {
     "slide_type": "fragment"
    }
   },
   "outputs": [],
   "source": [
    "result.content;\n",
    "result.json;"
   ]
  },
  {
   "cell_type": "markdown",
   "metadata": {
    "slideshow": {
     "slide_type": "subslide"
    }
   },
   "source": [
    "# Demo de request.POST\n",
    "\n",
    "Sur https://searx.laquadrature.net/ (montrer le ```<form method=\"POST\">```)"
   ]
  },
  {
   "cell_type": "code",
   "execution_count": 79,
   "metadata": {
    "collapsed": false,
    "slideshow": {
     "slide_type": "fragment"
    }
   },
   "outputs": [
    {
     "data": {
      "text/plain": [
       "'\\n<!DOCTYPE html>\\n<html lang=\"en\" dir=\"ltr\">\\n  <head>\\n<meta http-equiv=\"Content-Type\" content=\"text/html; charset=utf-8\" />\\n    <meta http-equiv=\"Content-Type\" content=\"text/html; charset=utf-8\" />\\n<link rel=\"shortcut icon\" href=\"/sites/all/themes/lqdn314/favicon.ico\" type=\"image/x-icon\" />\\n    <title>La Quadrature du Net | Internet & Libert\\xc3\\xa9s</title>\\n    <link type=\"text/css\" rel=\"stylesheet\" media=\"all\" href=\"/files/css/css_060c22dd12a8dd25468cddda52d64bb9.css\" />\\n        <script type=\"text/ja'"
      ]
     },
     "execution_count": 79,
     "metadata": {},
     "output_type": "execute_result"
    }
   ],
   "source": [
    "import requests\n",
    "\n",
    "result = requests.post(\"https://laquadrature.net\", data={\"q\": \"chocolat\"})\n",
    "\n",
    "result.content[:500]"
   ]
  },
  {
   "cell_type": "markdown",
   "metadata": {
    "slideshow": {
     "slide_type": "slide"
    }
   },
   "source": [
    "# HTTP : AJAX"
   ]
  },
  {
   "cell_type": "markdown",
   "metadata": {
    "slideshow": {
     "slide_type": "subslide"
    }
   },
   "source": [
    "# HTTP : AJAX\n",
    "\n",
    "![ajax.png](ajax.png)"
   ]
  },
  {
   "cell_type": "markdown",
   "metadata": {
    "slideshow": {
     "slide_type": "fragment"
    }
   },
   "source": [
    "Exemple en javascript/jquery:\n",
    "\n",
    "```javascript\n",
    "$.get(\"/stuff.json\").success(function(data) { /* do some stuff */ })\n",
    "```"
   ]
  },
  {
   "cell_type": "markdown",
   "metadata": {
    "slideshow": {
     "slide_type": "subslide"
    }
   },
   "source": [
    "# HTTP : AJAX\n",
    "![ajax2.png](ajax2.png)"
   ]
  },
  {
   "cell_type": "markdown",
   "metadata": {
    "slideshow": {
     "slide_type": "slide"
    }
   },
   "source": [
    "# Robobrowser : stimulate a browser behavior"
   ]
  },
  {
   "cell_type": "markdown",
   "metadata": {
    "slideshow": {
     "slide_type": "subslide"
    }
   },
   "source": [
    "# Robobrowser : stimulate a browser behavior\n",
    "\n",
    "Comme mechanize mais avec requests et BeautifulSoup. Conserve les sessions et parser les liens pour vous.\n",
    "\n",
    "https://github.com/jmcarp/robobrowser\n",
    "\n",
    "```python\n",
    "from robobrowser import RoboBrowser\n",
    "\n",
    "browser = RoboBrowser(history=True)\n",
    "browser.open('http://website.com/')\n",
    "\n",
    "# comme .find() pour les arguments\n",
    "form = browser.get_form(action='/search')\n",
    "\n",
    "form                # <RoboForm q=>\n",
    "form['q'].value = 'porcupine tree'\n",
    "browser.submit_form(form)\n",
    "\n",
    "# comme beautifulsoup\n",
    "browser.find\n",
    "browser.find_all\n",
    "\n",
    "# suivre des liens\n",
    "browser.follow_link(browser.find(\"a\"))\n",
    "\n",
    "# comme un navigateur\n",
    "browser.back()\n",
    "```"
   ]
  },
  {
   "cell_type": "markdown",
   "metadata": {
    "slideshow": {
     "slide_type": "subslide"
    }
   },
   "source": [
    "En plus léger, voir les Sessions de request: http://docs.python-requests.org/en/master/user/advanced/#session-objects\n",
    "\n",
    "```python\n",
    "import requests\n",
    "\n",
    "s = requests.Session()\n",
    "\n",
    "s.get('http://httpbin.org/cookies/set/sessioncookie/123456789')\n",
    "r = s.get('http://httpbin.org/cookies')\n",
    "\n",
    "print(r.text)\n",
    "# '{\"cookies\": {\"sessioncookie\": \"123456789\"}}'\n",
    "```"
   ]
  },
  {
   "cell_type": "markdown",
   "metadata": {
    "slideshow": {
     "slide_type": "slide"
    }
   },
   "source": [
    "# Ipython-beautifulsoup"
   ]
  },
  {
   "cell_type": "markdown",
   "metadata": {
    "slideshow": {
     "slide_type": "subslide"
    }
   },
   "source": [
    "# Ipython-beautifulsoup\n",
    "\n",
    "Pour les glandeurs et surtout car c'est plus facile. (spoiler: c'est moi qui l'ai codé)\n",
    "\n",
    "https://github.com/Psycojoker/ipython-beautifulsoup"
   ]
  },
  {
   "cell_type": "code",
   "execution_count": 80,
   "metadata": {
    "collapsed": false,
    "slideshow": {
     "slide_type": "fragment"
    }
   },
   "outputs": [
    {
     "name": "stdout",
     "output_type": "stream",
     "text": [
      "Monkey patch BeautifulSoup with custom rendering\n",
      "See `configure_ipython_beautifulsoup?` for configuration information\n",
      "Push 'BeautifulSoup' from 'bs4' into current context\n",
      "Push 'urlopen' from 'urllib2' into current context\n",
      "Push 'p' shortcut into current context\n",
      "Push 'requests' into current context\n"
     ]
    }
   ],
   "source": [
    "%load_ext soup"
   ]
  },
  {
   "cell_type": "code",
   "execution_count": 82,
   "metadata": {
    "collapsed": true,
    "slideshow": {
     "slide_type": "fragment"
    }
   },
   "outputs": [],
   "source": [
    "configure_ipython_beautifulsoup(show_html=True, show_css=True, show_js=True)"
   ]
  },
  {
   "cell_type": "markdown",
   "metadata": {
    "slideshow": {
     "slide_type": "subslide"
    }
   },
   "source": [
    "http://neutrinet.be/index.php?title=Past_Events"
   ]
  },
  {
   "cell_type": "code",
   "execution_count": null,
   "metadata": {
    "collapsed": true,
    "slideshow": {
     "slide_type": "-"
    }
   },
   "outputs": [],
   "source": [
    "soup = p(\"http://neutrinet.be/index.php?title=Past_Events\")"
   ]
  },
  {
   "cell_type": "code",
   "execution_count": 84,
   "metadata": {
    "collapsed": false,
    "slideshow": {
     "slide_type": "fragment"
    }
   },
   "outputs": [
    {
     "data": {
      "text/html": [
       "<table class=\"wikitable\" style=\"width:100%;\">\n",
       "<tr>\n",
       "<th style=\"background:black; color:white;\"> Name\n",
       "</th>\n",
       "<th style=\"background:black; color:white;\"> Date\n",
       "</th>\n",
       "<th style=\"background:black; color:white;\"> Tags\n",
       "</th>\n",
       "<th style=\"background:black; color:white;\"> Organizer\n",
       "</th>\n",
       "<th style=\"background:black; color:white;\"> Location\n",
       "</th></tr>\n",
       "<tr>\n",
       "<td><a href=\"/index.php?title=Event:Meeting_2016/03\" title=\"Event:Meeting 2016/03\">Meeting 2016/03</a> </td>\n",
       "<td> 25 February 2016 19:30:00 </td>\n",
       "<td> </td>\n",
       "<td> bram </td>\n",
       "<td> 123 rue royale 1000 Bruxelles Belgique\n",
       "</td></tr>\n",
       "<tr>\n",
       "<td><a href=\"/index.php?title=Event:Members_meeting_4\" title=\"Event:Members meeting 4\">Members meeting 4</a> </td>\n",
       "<td> 21 February 2016 14:00:00 </td>\n",
       "<td> </td>\n",
       "<td> bram </td>\n",
       "<td> 123 rue royale 1000 Bruxelles Belgique\n",
       "</td></tr>\n",
       "<tr>\n",
       "<td><a href=\"/index.php?title=Event:Meeting_2016/02\" title=\"Event:Meeting 2016/02\">Meeting 2016/02</a> </td>\n",
       "<td> 11 February 2016 19:30:00 </td>\n",
       "<td> </td>\n",
       "<td> bram </td>\n",
       "<td> 123 rue royale 1000 Bruxelles Belgique\n",
       "</td></tr>\n",
       "<tr>\n",
       "<td><a href=\"/index.php?title=Event:Members_meeting_3\" title=\"Event:Members meeting 3\">Members meeting 3</a> </td>\n",
       "<td> 17 January 2016 14:00:00 </td>\n",
       "<td> </td>\n",
       "<td> bram </td>\n",
       "<td> 123 rue royale 1000 Bruxelles Belgique\n",
       "</td></tr>\n",
       "<tr>\n",
       "<td><a href=\"/index.php?title=Event:Meeting_2016/01\" title=\"Event:Meeting 2016/01\">Meeting 2016/01</a> </td>\n",
       "<td> 14 January 2016 19:30:00 </td>\n",
       "<td> </td>\n",
       "<td> bram </td>\n",
       "<td> 123 rue royale 1000 Bruxelles Belgique\n",
       "</td></tr>\n",
       "<tr>\n",
       "<td><a href=\"/index.php?title=Event:Members_meeting_2\" title=\"Event:Members meeting 2\">Members meeting 2</a> </td>\n",
       "<td> 20 December 2015 14:00:00 </td>\n",
       "<td> </td>\n",
       "<td> bram </td>\n",
       "<td> 123 rue royale 1000 Bruxelles Belgique\n",
       "</td></tr>\n",
       "<tr>\n",
       "<td><a href=\"/index.php?title=Event:Meeting_2015/15\" title=\"Event:Meeting 2015/15\">Meeting 2015/15</a> </td>\n",
       "<td> 3 December 2015 19:30:00 </td>\n",
       "<td> </td>\n",
       "<td> bram </td>\n",
       "<td> 123 rue royale 1000 Bruxelles Belgique\n",
       "</td></tr>\n",
       "<tr>\n",
       "<td><a href=\"/index.php?title=Event:Meeting_2015/14\" title=\"Event:Meeting 2015/14\">Meeting 2015/14</a> </td>\n",
       "<td> 3 November 2015 19:30:00 </td>\n",
       "<td> </td>\n",
       "<td> bram </td>\n",
       "<td> 123 rue royale 1000 Bruxelles Belgique\n",
       "</td></tr>\n",
       "<tr>\n",
       "<td><a href=\"/index.php?title=Event:Meeting_2015/13\" title=\"Event:Meeting 2015/13\">Meeting 2015/13</a> </td>\n",
       "<td> 22 October 2015 19:30:00 </td>\n",
       "<td> </td>\n",
       "<td> bram </td>\n",
       "<td> 123 rue royale 1000 Bruxelles Belgique\n",
       "</td></tr>\n",
       "<tr>\n",
       "<td><a href=\"/index.php?title=Event:Members_meetings\" title=\"Event:Members meetings\">Members meetings</a> </td>\n",
       "<td> 18 October 2015 13:02:00 </td>\n",
       "<td> </td>\n",
       "<td> bram </td>\n",
       "<td> 123 rue royale 1000 Bruxelles Belgique\n",
       "</td></tr>\n",
       "<tr>\n",
       "<td><a href=\"/index.php?title=Event:Neutrinet_au_caf%C3%A9_num%C3%A9rique_S07\" title=\"Event:Neutrinet au café numérique S07\">Neutrinet au café numérique S07</a> </td>\n",
       "<td> 7 October 2015 19:00:00 </td>\n",
       "<td> </td>\n",
       "<td> bram </td>\n",
       "<td> 123 rue royale 1000 Bruxelles Belgique\n",
       "</td></tr>\n",
       "<tr>\n",
       "<td><a href=\"/index.php?title=Event:Neutrinet_at_%22Le_Temp_des_Communs%22\" title='Event:Neutrinet at \"Le Temp des Communs\"'>Neutrinet at \"Le Temp des Communs\"</a> </td>\n",
       "<td> 5 October 2015 20:00:00 </td>\n",
       "<td> </td>\n",
       "<td> bram </td>\n",
       "<td> World Trade Center I Boulevard du Roi Albert II 30 bte 5 B-1000 Bruxelles\n",
       "</td></tr>\n",
       "<tr>\n",
       "<td><a href=\"/index.php?title=Event:Meeting_2015/12_(General_Assembly)\" title=\"Event:Meeting 2015/12 (General Assembly)\">Meeting 2015/12 (General Assembly)</a> </td>\n",
       "<td> 24 September 2015 19:30:00 </td>\n",
       "<td> </td>\n",
       "<td> bram </td>\n",
       "<td> World Trade Center, tower I, floor 25, 28-30 boulevard du roi Albert II, Bruxelles\n",
       "</td></tr>\n",
       "<tr>\n",
       "<td><a href=\"/index.php?title=Event:Stand_FFDN_(donc_dont_Neutrinet)_%C3%A0_la_Braderie_de_Lille\" title=\"Event:Stand FFDN (donc dont Neutrinet) à la Braderie de Lille\">Stand FFDN (donc dont Neutrinet) à la Braderie de Lille</a> </td>\n",
       "<td> 5 September 2015 13:00:00 </td>\n",
       "<td> </td>\n",
       "<td> bram </td>\n",
       "<td> Lille\n",
       "</td></tr>\n",
       "<tr>\n",
       "<td><a href=\"/index.php?title=Event:Meeting_2015/11\" title=\"Event:Meeting 2015/11\">Meeting 2015/11</a> </td>\n",
       "<td> 20 August 2015 19:30:00 </td>\n",
       "<td> </td>\n",
       "<td> bram </td>\n",
       "<td> 123 rue royale 1000 Bruxelles Belgique\n",
       "</td></tr>\n",
       "<tr>\n",
       "<td><a href=\"/index.php?title=Event:Meeting_2015/10\" title=\"Event:Meeting 2015/10\">Meeting 2015/10</a> </td>\n",
       "<td> 23 July 2015 19:30:00 </td>\n",
       "<td> </td>\n",
       "<td> bram </td>\n",
       "<td> 123 rue royale 1000 Bruxelles Belgique\n",
       "</td></tr>\n",
       "<tr>\n",
       "<td><a href=\"/index.php?title=Event:Meeting_2015/09\" title=\"Event:Meeting 2015/09\">Meeting 2015/09</a> </td>\n",
       "<td> 8 July 2015 19:00:00 </td>\n",
       "<td> </td>\n",
       "<td> bram </td>\n",
       "<td> 123 rue royale 1000 Bruxelles Belgique\n",
       "</td></tr>\n",
       "<tr>\n",
       "<td><a href=\"/index.php?title=Event:Install_Party\" title=\"Event:Install Party\">Install Party</a> </td>\n",
       "<td> 2 July 2015 19:00:00 </td>\n",
       "<td> </td>\n",
       "<td> Bram </td>\n",
       "<td> 123 rue royale\n",
       "</td></tr>\n",
       "<tr>\n",
       "<td><a href=\"/index.php?title=Event:Meeting_2015/08\" title=\"Event:Meeting 2015/08\">Meeting 2015/08</a> </td>\n",
       "<td> 18 June 2015 20:00:00 </td>\n",
       "<td> </td>\n",
       "<td> </td>\n",
       "<td> Rue du Canal 45, BXL\n",
       "</td></tr>\n",
       "<tr>\n",
       "<td><a href=\"/index.php?title=Event:Meeting_2015/07\" title=\"Event:Meeting 2015/07\">Meeting 2015/07</a> </td>\n",
       "<td> 7 June 2015 14:00:00 </td>\n",
       "<td> </td>\n",
       "<td> Yvan </td>\n",
       "<td> Poissonnerie (Bruxelles)\n",
       "</td></tr>\n",
       "<tr>\n",
       "<td><a href=\"/index.php?title=Event:Meeting_2015/06\" title=\"Event:Meeting 2015/06\">Meeting 2015/06</a> </td>\n",
       "<td> 21 May 2015 19:30:00 </td>\n",
       "<td> </td>\n",
       "<td> Bram </td>\n",
       "<td> F/LAT 45 rue du canal Bruxelles\n",
       "</td></tr>\n",
       "<tr>\n",
       "<td><a href=\"/index.php?title=Event:Meeting_2015/05\" title=\"Event:Meeting 2015/05\">Meeting 2015/05</a> </td>\n",
       "<td> 16 April 2015 19:30:00 </td>\n",
       "<td> </td>\n",
       "<td> Bram </td>\n",
       "<td> F/LAT\n",
       "</td></tr>\n",
       "<tr>\n",
       "<td><a href=\"/index.php?title=Event:Meeting_2015/04\" title=\"Event:Meeting 2015/04\">Meeting 2015/04</a> </td>\n",
       "<td> 2 April 2015 19:30:00 </td>\n",
       "<td> </td>\n",
       "<td> </td>\n",
       "<td> F/LAT\n",
       "</td></tr>\n",
       "<tr>\n",
       "<td><a href=\"/index.php?title=Event:Meeting_2015/03\" title=\"Event:Meeting 2015/03\">Meeting 2015/03</a> </td>\n",
       "<td> 12 March 2015 00:00:00 </td>\n",
       "<td> </td>\n",
       "<td> </td>\n",
       "<td> F/LAT\n",
       "</td></tr>\n",
       "<tr>\n",
       "<td><a href=\"/index.php?title=Event:Meeting_2015/02\" title=\"Event:Meeting 2015/02\">Meeting 2015/02</a> </td>\n",
       "<td> 5 February 2015 19:30:00 </td>\n",
       "<td> </td>\n",
       "<td> </td>\n",
       "<td> 45 rue du canal\n",
       "</td></tr>\n",
       "<tr>\n",
       "<td><a href=\"/index.php?title=Event:FOSDEM_DIY-ISP_meetup\" title=\"Event:FOSDEM DIY-ISP meetup\">FOSDEM DIY-ISP meetup</a> </td>\n",
       "<td> 1 February 2015 16:00:00 </td>\n",
       "<td> </td>\n",
       "<td> </td>\n",
       "<td> Urlab, Avenue Buyl 131, 1050 Ixelles\n",
       "</td></tr>\n",
       "<tr>\n",
       "<td><a href=\"/index.php?title=Event:Meeting_2015/01_--_Assembl%C3%A9e_G%C3%A9n%C3%A9rale\" title=\"Event:Meeting 2015/01 -- Assemblée Générale\">Meeting 2015/01 -- Assemblée Générale</a> </td>\n",
       "<td> 15 January 2015 19:30:00 </td>\n",
       "<td> </td>\n",
       "<td> </td>\n",
       "<td> 123 Rue Royale, BXL\n",
       "</td></tr>\n",
       "<tr>\n",
       "<td><a href=\"/index.php?title=Event:Meeting_2014/18\" title=\"Event:Meeting 2014/18\">Meeting 2014/18</a> </td>\n",
       "<td> 17 December 2014 19:30:00 </td>\n",
       "<td> </td>\n",
       "<td> Bram </td>\n",
       "<td> 123 Rue Royale, BXL\n",
       "</td></tr>\n",
       "<tr>\n",
       "<td><a href=\"/index.php?title=Event:Meeting_2014/17\" title=\"Event:Meeting 2014/17\">Meeting 2014/17</a> </td>\n",
       "<td> 10 December 2014 19:30:00 </td>\n",
       "<td> </td>\n",
       "<td> </td>\n",
       "<td> 123 Rue Royale, BXL\n",
       "</td></tr>\n",
       "<tr>\n",
       "<td><a href=\"/index.php?title=Event:Meeting_2014/16\" title=\"Event:Meeting 2014/16\">Meeting 2014/16</a> </td>\n",
       "<td> 20 November 2014 19:30:00 </td>\n",
       "<td> </td>\n",
       "<td> Neutrinet </td>\n",
       "<td> 123 rue Royale - 1000 Bruxelles - 4eme étage local FEBUL\n",
       "</td></tr>\n",
       "<tr>\n",
       "<td><a href=\"/index.php?title=Event:Meeting_2014/15\" title=\"Event:Meeting 2014/15\">Meeting 2014/15</a> </td>\n",
       "<td> 16 October 2014 19:30:00 </td>\n",
       "<td> </td>\n",
       "<td> Neutrinet </td>\n",
       "<td> 45 Rue du Canal, BXL\n",
       "</td></tr>\n",
       "<tr>\n",
       "<td><a href=\"/index.php?title=Event:Meeting_2014/14\" title=\"Event:Meeting 2014/14\">Meeting 2014/14</a> </td>\n",
       "<td> 25 September 2014 19:30:00 </td>\n",
       "<td> </td>\n",
       "<td> Neutrinet </td>\n",
       "<td> 45 rue du Canal, 1000 BXL\n",
       "</td></tr>\n",
       "<tr>\n",
       "<td><a href=\"/index.php?title=Event:Meeting_2014/13\" title=\"Event:Meeting 2014/13\">Meeting 2014/13</a> </td>\n",
       "<td> 29 August 2014 19:30:00 </td>\n",
       "<td> </td>\n",
       "<td> Neutrinet </td>\n",
       "<td> 123 Rue Royale, BXL\n",
       "</td></tr>\n",
       "<tr>\n",
       "<td><a href=\"/index.php?title=Event:Meeting_2014/12\" title=\"Event:Meeting 2014/12\">Meeting 2014/12</a> </td>\n",
       "<td> 31 July 2014 19:30:00 </td>\n",
       "<td> </td>\n",
       "<td> Neutrinet </td>\n",
       "<td> 123 Rue Royale BXL\n",
       "</td></tr>\n",
       "<tr>\n",
       "<td><a href=\"/index.php?title=Event:Meeting_2014/11\" title=\"Event:Meeting 2014/11\">Meeting 2014/11</a> </td>\n",
       "<td> 7 July 2014 19:30:00 </td>\n",
       "<td> </td>\n",
       "<td> </td>\n",
       "<td> 123 Rue Royale, BXL\n",
       "</td></tr>\n",
       "<tr>\n",
       "<td><a href=\"/index.php?title=Event:Meeting_2014/5\" title=\"Event:Meeting 2014/5\">Meeting 2014/5</a> </td>\n",
       "<td> 13 March 2014 19:30:00 </td>\n",
       "<td> </td>\n",
       "<td> </td>\n",
       "<td> 123 Rue Royale, BXL\n",
       "</td></tr>\n",
       "<tr>\n",
       "<td><a href=\"/index.php?title=Event:Meeting_2013/11\" title=\"Event:Meeting 2013/11\">Meeting 2013/11</a> </td>\n",
       "<td> 21 November 2013 18:00:00 </td>\n",
       "<td> <a href=\"/index.php?title=Special:SearchByProperty/Tags/AG\" title=\"Special:SearchByProperty/Tags/AG\">AG</a>, <a href=\"/index.php?title=Special:SearchByProperty/Tags/meeting\" title=\"Special:SearchByProperty/Tags/meeting\">meeting</a> </td>\n",
       "<td> </td>\n",
       "<td> 123 rue royale (Brussels)\n",
       "</td></tr>\n",
       "<tr>\n",
       "<td><a href=\"/index.php?title=Event:Meeting_2013/10\" title=\"Event:Meeting 2013/10\">Meeting 2013/10</a> </td>\n",
       "<td> 7 November 2013 19:30:00 </td>\n",
       "<td> <a href=\"/index.php?title=Special:SearchByProperty/Tags/meeting\" title=\"Special:SearchByProperty/Tags/meeting\">meeting</a> </td>\n",
       "<td> </td>\n",
       "<td> 123 rue royale (Brussels)\n",
       "</td></tr>\n",
       "<tr>\n",
       "<td><a href=\"/index.php?title=Event:Meeting_2013/8\" title=\"Event:Meeting 2013/8\">Meeting 2013/8</a> </td>\n",
       "<td> 10 October 2013 19:30:00 </td>\n",
       "<td> <a href=\"/index.php?title=Special:SearchByProperty/Tags/meeting\" title=\"Special:SearchByProperty/Tags/meeting\">meeting</a> </td>\n",
       "<td> </td>\n",
       "<td> UrLab\n",
       "</td></tr>\n",
       "<tr>\n",
       "<td><a href=\"/index.php?title=Event:Meeting_2013/7\" title=\"Event:Meeting 2013/7\">Meeting 2013/7</a> </td>\n",
       "<td> 26 September 2013 19:30:00 </td>\n",
       "<td> <a href=\"/index.php?title=Special:SearchByProperty/Tags/meeting\" title=\"Special:SearchByProperty/Tags/meeting\">meeting</a> </td>\n",
       "<td> </td>\n",
       "<td> UrLab\n",
       "</td></tr>\n",
       "<tr>\n",
       "<td><a href=\"/index.php?title=Event:Meeting_2013/4\" title=\"Event:Meeting 2013/4\">Meeting 2013/4</a> </td>\n",
       "<td> 15 August 2013 19:30:00 </td>\n",
       "<td> <a href=\"/index.php?title=Special:SearchByProperty/Tags/meeting\" title=\"Special:SearchByProperty/Tags/meeting\">meeting</a> </td>\n",
       "<td> </td>\n",
       "<td> 123 rue royale (Brussels)\n",
       "</td></tr>\n",
       "<tr>\n",
       "<td><a href=\"/index.php?title=Event:Meeting_2013/3\" title=\"Event:Meeting 2013/3\">Meeting 2013/3</a> </td>\n",
       "<td> 8 August 2013 19:00:00 </td>\n",
       "<td> <a href=\"/index.php?title=Special:SearchByProperty/Tags/meeting\" title=\"Special:SearchByProperty/Tags/meeting\">meeting</a> </td>\n",
       "<td> </td>\n",
       "<td> HSBXL\n",
       "</td></tr>\n",
       "<tr>\n",
       "<td><a href=\"/index.php?title=Event:Meeting_2013/2\" title=\"Event:Meeting 2013/2\">Meeting 2013/2</a> </td>\n",
       "<td> 25 July 2013 19:30:00 </td>\n",
       "<td> <a href=\"/index.php?title=Special:SearchByProperty/Tags/meeting\" title=\"Special:SearchByProperty/Tags/meeting\">meeting</a> </td>\n",
       "<td> </td>\n",
       "<td> Chez Toone\n",
       "</td></tr>\n",
       "<tr>\n",
       "<td><a href=\"/index.php?title=Event:Meeting_2013/1\" title=\"Event:Meeting 2013/1\">Meeting 2013/1</a> </td>\n",
       "<td> 18 July 2013 19:00:00 </td>\n",
       "<td> <a href=\"/index.php?title=Special:SearchByProperty/Tags/meeting\" title=\"Special:SearchByProperty/Tags/meeting\">meeting</a> </td>\n",
       "<td> </td>\n",
       "<td> UrLab\n",
       "</td></tr></table><hr/><div class=\"highlight\" style=\"background: #f8f8f8\"><pre style=\"line-height: 125%\"><span></span>&lt;<span style=\"color: #008000; font-weight: bold\">table</span> <span style=\"color: #7D9029\">class</span><span style=\"color: #666666\">=</span><span style=\"color: #BA2121\">&quot;wikitable&quot;</span> <span style=\"color: #7D9029\">style</span><span style=\"color: #666666\">=</span><span style=\"color: #BA2121\">&quot;width:100%;&quot;</span>&gt;\n",
       " &lt;<span style=\"color: #008000; font-weight: bold\">tr</span>&gt;\n",
       "  &lt;<span style=\"color: #008000; font-weight: bold\">th</span> <span style=\"color: #7D9029\">style</span><span style=\"color: #666666\">=</span><span style=\"color: #BA2121\">&quot;background:black; color:white;&quot;</span>&gt;\n",
       "   Name\n",
       "  &lt;/<span style=\"color: #008000; font-weight: bold\">th</span>&gt;\n",
       "  &lt;<span style=\"color: #008000; font-weight: bold\">th</span> <span style=\"color: #7D9029\">style</span><span style=\"color: #666666\">=</span><span style=\"color: #BA2121\">&quot;background:black; color:white;&quot;</span>&gt;\n",
       "   Date\n",
       "  &lt;/<span style=\"color: #008000; font-weight: bold\">th</span>&gt;\n",
       "  &lt;<span style=\"color: #008000; font-weight: bold\">th</span> <span style=\"color: #7D9029\">style</span><span style=\"color: #666666\">=</span><span style=\"color: #BA2121\">&quot;background:black; color:white;&quot;</span>&gt;\n",
       "   Tags\n",
       "  &lt;/<span style=\"color: #008000; font-weight: bold\">th</span>&gt;\n",
       "  &lt;<span style=\"color: #008000; font-weight: bold\">th</span> <span style=\"color: #7D9029\">style</span><span style=\"color: #666666\">=</span><span style=\"color: #BA2121\">&quot;background:black; color:white;&quot;</span>&gt;\n",
       "   Organizer\n",
       "  &lt;/<span style=\"color: #008000; font-weight: bold\">th</span>&gt;\n",
       "  &lt;<span style=\"color: #008000; font-weight: bold\">th</span> <span style=\"color: #7D9029\">style</span><span style=\"color: #666666\">=</span><span style=\"color: #BA2121\">&quot;background:black; color:white;&quot;</span>&gt;\n",
       "   Location\n",
       "  &lt;/<span style=\"color: #008000; font-weight: bold\">th</span>&gt;\n",
       " &lt;/<span style=\"color: #008000; font-weight: bold\">tr</span>&gt;\n",
       " &lt;<span style=\"color: #008000; font-weight: bold\">tr</span>&gt;\n",
       "  &lt;<span style=\"color: #008000; font-weight: bold\">td</span>&gt;\n",
       "   &lt;<span style=\"color: #008000; font-weight: bold\">a</span> <span style=\"color: #7D9029\">href</span><span style=\"color: #666666\">=</span><span style=\"color: #BA2121\">&quot;/index.php?title=Event:Meeting_2016/03&quot;</span> <span style=\"color: #7D9029\">title</span><span style=\"color: #666666\">=</span><span style=\"color: #BA2121\">&quot;Event:Meeting 2016/03&quot;</span>&gt;\n",
       "    Meeting 2016/03\n",
       "   &lt;/<span style=\"color: #008000; font-weight: bold\">a</span>&gt;\n",
       "  &lt;/<span style=\"color: #008000; font-weight: bold\">td</span>&gt;\n",
       "  &lt;<span style=\"color: #008000; font-weight: bold\">td</span>&gt;\n",
       "   25 February 2016 19:30:00\n",
       "  &lt;/<span style=\"color: #008000; font-weight: bold\">td</span>&gt;\n",
       "  &lt;<span style=\"color: #008000; font-weight: bold\">td</span>&gt;\n",
       "  &lt;/<span style=\"color: #008000; font-weight: bold\">td</span>&gt;\n",
       "  &lt;<span style=\"color: #008000; font-weight: bold\">td</span>&gt;\n",
       "   bram\n",
       "  &lt;/<span style=\"color: #008000; font-weight: bold\">td</span>&gt;\n",
       "  &lt;<span style=\"color: #008000; font-weight: bold\">td</span>&gt;\n",
       "   123 rue royale 1000 Bruxelles Belgique\n",
       "  &lt;/<span style=\"color: #008000; font-weight: bold\">td</span>&gt;\n",
       " &lt;/<span style=\"color: #008000; font-weight: bold\">tr</span>&gt;\n",
       " &lt;<span style=\"color: #008000; font-weight: bold\">tr</span>&gt;\n",
       "  &lt;<span style=\"color: #008000; font-weight: bold\">td</span>&gt;\n",
       "   &lt;<span style=\"color: #008000; font-weight: bold\">a</span> <span style=\"color: #7D9029\">href</span><span style=\"color: #666666\">=</span><span style=\"color: #BA2121\">&quot;/index.php?title=Event:Members_meeting_4&quot;</span> <span style=\"color: #7D9029\">title</span><span style=\"color: #666666\">=</span><span style=\"color: #BA2121\">&quot;Event:Members meeting 4&quot;</span>&gt;\n",
       "    Members meeting 4\n",
       "   &lt;/<span style=\"color: #008000; font-weight: bold\">a</span>&gt;\n",
       "  &lt;/<span style=\"color: #008000; font-weight: bold\">td</span>&gt;\n",
       "  &lt;<span style=\"color: #008000; font-weight: bold\">td</span>&gt;\n",
       "   21 February 2016 14:00:00\n",
       "  &lt;/<span style=\"color: #008000; font-weight: bold\">td</span>&gt;\n",
       "  &lt;<span style=\"color: #008000; font-weight: bold\">td</span>&gt;\n",
       "  &lt;/<span style=\"color: #008000; font-weight: bold\">td</span>&gt;\n",
       "  &lt;<span style=\"color: #008000; font-weight: bold\">td</span>&gt;\n",
       "   bram\n",
       "  &lt;/<span style=\"color: #008000; font-weight: bold\">td</span>&gt;\n",
       "  &lt;<span style=\"color: #008000; font-weight: bold\">td</span>&gt;\n",
       "   123 rue royale 1000 Bruxelles Belgique\n",
       "  &lt;/<span style=\"color: #008000; font-weight: bold\">td</span>&gt;\n",
       " &lt;/<span style=\"color: #008000; font-weight: bold\">tr</span>&gt;\n",
       " &lt;<span style=\"color: #008000; font-weight: bold\">tr</span>&gt;\n",
       "  &lt;<span style=\"color: #008000; font-weight: bold\">td</span>&gt;\n",
       "   &lt;<span style=\"color: #008000; font-weight: bold\">a</span> <span style=\"color: #7D9029\">href</span><span style=\"color: #666666\">=</span><span style=\"color: #BA2121\">&quot;/index.php?title=Event:Meeting_2016/02&quot;</span> <span style=\"color: #7D9029\">title</span><span style=\"color: #666666\">=</span><span style=\"color: #BA2121\">&quot;Event:Meeting 2016/02&quot;</span>&gt;\n",
       "    Meeting 2016/02\n",
       "   &lt;/<span style=\"color: #008000; font-weight: bold\">a</span>&gt;\n",
       "  &lt;/<span style=\"color: #008000; font-weight: bold\">td</span>&gt;\n",
       "  &lt;<span style=\"color: #008000; font-weight: bold\">td</span>&gt;\n",
       "   11 February 2016 19:30:00\n",
       "  &lt;/<span style=\"color: #008000; font-weight: bold\">td</span>&gt;\n",
       "  &lt;<span style=\"color: #008000; font-weight: bold\">td</span>&gt;\n",
       "  &lt;/<span style=\"color: #008000; font-weight: bold\">td</span>&gt;\n",
       "  &lt;<span style=\"color: #008000; font-weight: bold\">td</span>&gt;\n",
       "   bram\n",
       "  &lt;/<span style=\"color: #008000; font-weight: bold\">td</span>&gt;\n",
       "  &lt;<span style=\"color: #008000; font-weight: bold\">td</span>&gt;\n",
       "   123 rue royale 1000 Bruxelles Belgique\n",
       "  &lt;/<span style=\"color: #008000; font-weight: bold\">td</span>&gt;\n",
       " &lt;/<span style=\"color: #008000; font-weight: bold\">tr</span>&gt;\n",
       " &lt;<span style=\"color: #008000; font-weight: bold\">tr</span>&gt;\n",
       "  &lt;<span style=\"color: #008000; font-weight: bold\">td</span>&gt;\n",
       "   &lt;<span style=\"color: #008000; font-weight: bold\">a</span> <span style=\"color: #7D9029\">href</span><span style=\"color: #666666\">=</span><span style=\"color: #BA2121\">&quot;/index.php?title=Event:Members_meeting_3&quot;</span> <span style=\"color: #7D9029\">title</span><span style=\"color: #666666\">=</span><span style=\"color: #BA2121\">&quot;Event:Members meeting 3&quot;</span>&gt;\n",
       "    Members meeting 3\n",
       "   &lt;/<span style=\"color: #008000; font-weight: bold\">a</span>&gt;\n",
       "  &lt;/<span style=\"color: #008000; font-weight: bold\">td</span>&gt;\n",
       "  &lt;<span style=\"color: #008000; font-weight: bold\">td</span>&gt;\n",
       "   17 January 2016 14:00:00\n",
       "  &lt;/<span style=\"color: #008000; font-weight: bold\">td</span>&gt;\n",
       "  &lt;<span style=\"color: #008000; font-weight: bold\">td</span>&gt;\n",
       "  &lt;/<span style=\"color: #008000; font-weight: bold\">td</span>&gt;\n",
       "  &lt;<span style=\"color: #008000; font-weight: bold\">td</span>&gt;\n",
       "   bram\n",
       "  &lt;/<span style=\"color: #008000; font-weight: bold\">td</span>&gt;\n",
       "  &lt;<span style=\"color: #008000; font-weight: bold\">td</span>&gt;\n",
       "   123 rue royale 1000 Bruxelles Belgique\n",
       "  &lt;/<span style=\"color: #008000; font-weight: bold\">td</span>&gt;\n",
       " &lt;/<span style=\"color: #008000; font-weight: bold\">tr</span>&gt;\n",
       " &lt;<span style=\"color: #008000; font-weight: bold\">tr</span>&gt;\n",
       "  &lt;<span style=\"color: #008000; font-weight: bold\">td</span>&gt;\n",
       "   &lt;<span style=\"color: #008000; font-weight: bold\">a</span> <span style=\"color: #7D9029\">href</span><span style=\"color: #666666\">=</span><span style=\"color: #BA2121\">&quot;/index.php?title=Event:Meeting_2016/01&quot;</span> <span style=\"color: #7D9029\">title</span><span style=\"color: #666666\">=</span><span style=\"color: #BA2121\">&quot;Event:Meeting 2016/01&quot;</span>&gt;\n",
       "    Meeting 2016/01\n",
       "   &lt;/<span style=\"color: #008000; font-weight: bold\">a</span>&gt;\n",
       "  &lt;/<span style=\"color: #008000; font-weight: bold\">td</span>&gt;\n",
       "  &lt;<span style=\"color: #008000; font-weight: bold\">td</span>&gt;\n",
       "   14 January 2016 19:30:00\n",
       "  &lt;/<span style=\"color: #008000; font-weight: bold\">td</span>&gt;\n",
       "  &lt;<span style=\"color: #008000; font-weight: bold\">td</span>&gt;\n",
       "  &lt;/<span style=\"color: #008000; font-weight: bold\">td</span>&gt;\n",
       "  &lt;<span style=\"color: #008000; font-weight: bold\">td</span>&gt;\n",
       "   bram\n",
       "  &lt;/<span style=\"color: #008000; font-weight: bold\">td</span>&gt;\n",
       "  &lt;<span style=\"color: #008000; font-weight: bold\">td</span>&gt;\n",
       "   123 rue royale 1000 Bruxelles Belgique\n",
       "  &lt;/<span style=\"color: #008000; font-weight: bold\">td</span>&gt;\n",
       " &lt;/<span style=\"color: #008000; font-weight: bold\">tr</span>&gt;\n",
       " &lt;<span style=\"color: #008000; font-weight: bold\">tr</span>&gt;\n",
       "  &lt;<span style=\"color: #008000; font-weight: bold\">td</span>&gt;\n",
       "   &lt;<span style=\"color: #008000; font-weight: bold\">a</span> <span style=\"color: #7D9029\">href</span><span style=\"color: #666666\">=</span><span style=\"color: #BA2121\">&quot;/index.php?title=Event:Members_meeting_2&quot;</span> <span style=\"color: #7D9029\">title</span><span style=\"color: #666666\">=</span><span style=\"color: #BA2121\">&quot;Event:Members meeting 2&quot;</span>&gt;\n",
       "    Members meeting 2\n",
       "   &lt;/<span style=\"color: #008000; font-weight: bold\">a</span>&gt;\n",
       "  &lt;/<span style=\"color: #008000; font-weight: bold\">td</span>&gt;\n",
       "  &lt;<span style=\"color: #008000; font-weight: bold\">td</span>&gt;\n",
       "   20 December 2015 14:00:00\n",
       "  &lt;/<span style=\"color: #008000; font-weight: bold\">td</span>&gt;\n",
       "  &lt;<span style=\"color: #008000; font-weight: bold\">td</span>&gt;\n",
       "  &lt;/<span style=\"color: #008000; font-weight: bold\">td</span>&gt;\n",
       "  &lt;<span style=\"color: #008000; font-weight: bold\">td</span>&gt;\n",
       "   bram\n",
       "  &lt;/<span style=\"color: #008000; font-weight: bold\">td</span>&gt;\n",
       "  &lt;<span style=\"color: #008000; font-weight: bold\">td</span>&gt;\n",
       "   123 rue royale 1000 Bruxelles Belgique\n",
       "  &lt;/<span style=\"color: #008000; font-weight: bold\">td</span>&gt;\n",
       " &lt;/<span style=\"color: #008000; font-weight: bold\">tr</span>&gt;\n",
       " &lt;<span style=\"color: #008000; font-weight: bold\">tr</span>&gt;\n",
       "  &lt;<span style=\"color: #008000; font-weight: bold\">td</span>&gt;\n",
       "   &lt;<span style=\"color: #008000; font-weight: bold\">a</span> <span style=\"color: #7D9029\">href</span><span style=\"color: #666666\">=</span><span style=\"color: #BA2121\">&quot;/index.php?title=Event:Meeting_2015/15&quot;</span> <span style=\"color: #7D9029\">title</span><span style=\"color: #666666\">=</span><span style=\"color: #BA2121\">&quot;Event:Meeting 2015/15&quot;</span>&gt;\n",
       "    Meeting 2015/15\n",
       "   &lt;/<span style=\"color: #008000; font-weight: bold\">a</span>&gt;\n",
       "  &lt;/<span style=\"color: #008000; font-weight: bold\">td</span>&gt;\n",
       "  &lt;<span style=\"color: #008000; font-weight: bold\">td</span>&gt;\n",
       "   3 December 2015 19:30:00\n",
       "  &lt;/<span style=\"color: #008000; font-weight: bold\">td</span>&gt;\n",
       "  &lt;<span style=\"color: #008000; font-weight: bold\">td</span>&gt;\n",
       "  &lt;/<span style=\"color: #008000; font-weight: bold\">td</span>&gt;\n",
       "  &lt;<span style=\"color: #008000; font-weight: bold\">td</span>&gt;\n",
       "   bram\n",
       "  &lt;/<span style=\"color: #008000; font-weight: bold\">td</span>&gt;\n",
       "  &lt;<span style=\"color: #008000; font-weight: bold\">td</span>&gt;\n",
       "   123 rue royale 1000 Bruxelles Belgique\n",
       "  &lt;/<span style=\"color: #008000; font-weight: bold\">td</span>&gt;\n",
       " &lt;/<span style=\"color: #008000; font-weight: bold\">tr</span>&gt;\n",
       " &lt;<span style=\"color: #008000; font-weight: bold\">tr</span>&gt;\n",
       "  &lt;<span style=\"color: #008000; font-weight: bold\">td</span>&gt;\n",
       "   &lt;<span style=\"color: #008000; font-weight: bold\">a</span> <span style=\"color: #7D9029\">href</span><span style=\"color: #666666\">=</span><span style=\"color: #BA2121\">&quot;/index.php?title=Event:Meeting_2015/14&quot;</span> <span style=\"color: #7D9029\">title</span><span style=\"color: #666666\">=</span><span style=\"color: #BA2121\">&quot;Event:Meeting 2015/14&quot;</span>&gt;\n",
       "    Meeting 2015/14\n",
       "   &lt;/<span style=\"color: #008000; font-weight: bold\">a</span>&gt;\n",
       "  &lt;/<span style=\"color: #008000; font-weight: bold\">td</span>&gt;\n",
       "  &lt;<span style=\"color: #008000; font-weight: bold\">td</span>&gt;\n",
       "   3 November 2015 19:30:00\n",
       "  &lt;/<span style=\"color: #008000; font-weight: bold\">td</span>&gt;\n",
       "  &lt;<span style=\"color: #008000; font-weight: bold\">td</span>&gt;\n",
       "  &lt;/<span style=\"color: #008000; font-weight: bold\">td</span>&gt;\n",
       "  &lt;<span style=\"color: #008000; font-weight: bold\">td</span>&gt;\n",
       "   bram\n",
       "  &lt;/<span style=\"color: #008000; font-weight: bold\">td</span>&gt;\n",
       "  &lt;<span style=\"color: #008000; font-weight: bold\">td</span>&gt;\n",
       "   123 rue royale 1000 Bruxelles Belgique\n",
       "  &lt;/<span style=\"color: #008000; font-weight: bold\">td</span>&gt;\n",
       " &lt;/<span style=\"color: #008000; font-weight: bold\">tr</span>&gt;\n",
       " &lt;<span style=\"color: #008000; font-weight: bold\">tr</span>&gt;\n",
       "  &lt;<span style=\"color: #008000; font-weight: bold\">td</span>&gt;\n",
       "   &lt;<span style=\"color: #008000; font-weight: bold\">a</span> <span style=\"color: #7D9029\">href</span><span style=\"color: #666666\">=</span><span style=\"color: #BA2121\">&quot;/index.php?title=Event:Meeting_2015/13&quot;</span> <span style=\"color: #7D9029\">title</span><span style=\"color: #666666\">=</span><span style=\"color: #BA2121\">&quot;Event:Meeting 2015/13&quot;</span>&gt;\n",
       "    Meeting 2015/13\n",
       "   &lt;/<span style=\"color: #008000; font-weight: bold\">a</span>&gt;\n",
       "  &lt;/<span style=\"color: #008000; font-weight: bold\">td</span>&gt;\n",
       "  &lt;<span style=\"color: #008000; font-weight: bold\">td</span>&gt;\n",
       "   22 October 2015 19:30:00\n",
       "  &lt;/<span style=\"color: #008000; font-weight: bold\">td</span>&gt;\n",
       "  &lt;<span style=\"color: #008000; font-weight: bold\">td</span>&gt;\n",
       "  &lt;/<span style=\"color: #008000; font-weight: bold\">td</span>&gt;\n",
       "  &lt;<span style=\"color: #008000; font-weight: bold\">td</span>&gt;\n",
       "   bram\n",
       "  &lt;/<span style=\"color: #008000; font-weight: bold\">td</span>&gt;\n",
       "  &lt;<span style=\"color: #008000; font-weight: bold\">td</span>&gt;\n",
       "   123 rue royale 1000 Bruxelles Belgique\n",
       "  &lt;/<span style=\"color: #008000; font-weight: bold\">td</span>&gt;\n",
       " &lt;/<span style=\"color: #008000; font-weight: bold\">tr</span>&gt;\n",
       " &lt;<span style=\"color: #008000; font-weight: bold\">tr</span>&gt;\n",
       "  &lt;<span style=\"color: #008000; font-weight: bold\">td</span>&gt;\n",
       "   &lt;<span style=\"color: #008000; font-weight: bold\">a</span> <span style=\"color: #7D9029\">href</span><span style=\"color: #666666\">=</span><span style=\"color: #BA2121\">&quot;/index.php?title=Event:Members_meetings&quot;</span> <span style=\"color: #7D9029\">title</span><span style=\"color: #666666\">=</span><span style=\"color: #BA2121\">&quot;Event:Members meetings&quot;</span>&gt;\n",
       "    Members meetings\n",
       "   &lt;/<span style=\"color: #008000; font-weight: bold\">a</span>&gt;\n",
       "  &lt;/<span style=\"color: #008000; font-weight: bold\">td</span>&gt;\n",
       "  &lt;<span style=\"color: #008000; font-weight: bold\">td</span>&gt;\n",
       "   18 October 2015 13:02:00\n",
       "  &lt;/<span style=\"color: #008000; font-weight: bold\">td</span>&gt;\n",
       "  &lt;<span style=\"color: #008000; font-weight: bold\">td</span>&gt;\n",
       "  &lt;/<span style=\"color: #008000; font-weight: bold\">td</span>&gt;\n",
       "  &lt;<span style=\"color: #008000; font-weight: bold\">td</span>&gt;\n",
       "   bram\n",
       "  &lt;/<span style=\"color: #008000; font-weight: bold\">td</span>&gt;\n",
       "  &lt;<span style=\"color: #008000; font-weight: bold\">td</span>&gt;\n",
       "   123 rue royale 1000 Bruxelles Belgique\n",
       "  &lt;/<span style=\"color: #008000; font-weight: bold\">td</span>&gt;\n",
       " &lt;/<span style=\"color: #008000; font-weight: bold\">tr</span>&gt;\n",
       " &lt;<span style=\"color: #008000; font-weight: bold\">tr</span>&gt;\n",
       "  &lt;<span style=\"color: #008000; font-weight: bold\">td</span>&gt;\n",
       "   &lt;<span style=\"color: #008000; font-weight: bold\">a</span> <span style=\"color: #7D9029\">href</span><span style=\"color: #666666\">=</span><span style=\"color: #BA2121\">&quot;/index.php?title=Event:Neutrinet_au_caf%C3%A9_num%C3%A9rique_S07&quot;</span> <span style=\"color: #7D9029\">title</span><span style=\"color: #666666\">=</span><span style=\"color: #BA2121\">&quot;Event:Neutrinet au café numérique S07&quot;</span>&gt;\n",
       "    Neutrinet au café numérique S07\n",
       "   &lt;/<span style=\"color: #008000; font-weight: bold\">a</span>&gt;\n",
       "  &lt;/<span style=\"color: #008000; font-weight: bold\">td</span>&gt;\n",
       "  &lt;<span style=\"color: #008000; font-weight: bold\">td</span>&gt;\n",
       "   7 October 2015 19:00:00\n",
       "  &lt;/<span style=\"color: #008000; font-weight: bold\">td</span>&gt;\n",
       "  &lt;<span style=\"color: #008000; font-weight: bold\">td</span>&gt;\n",
       "  &lt;/<span style=\"color: #008000; font-weight: bold\">td</span>&gt;\n",
       "  &lt;<span style=\"color: #008000; font-weight: bold\">td</span>&gt;\n",
       "   bram\n",
       "  &lt;/<span style=\"color: #008000; font-weight: bold\">td</span>&gt;\n",
       "  &lt;<span style=\"color: #008000; font-weight: bold\">td</span>&gt;\n",
       "   123 rue royale 1000 Bruxelles Belgique\n",
       "  &lt;/<span style=\"color: #008000; font-weight: bold\">td</span>&gt;\n",
       " &lt;/<span style=\"color: #008000; font-weight: bold\">tr</span>&gt;\n",
       " &lt;<span style=\"color: #008000; font-weight: bold\">tr</span>&gt;\n",
       "  &lt;<span style=\"color: #008000; font-weight: bold\">td</span>&gt;\n",
       "   &lt;<span style=\"color: #008000; font-weight: bold\">a</span> <span style=\"color: #7D9029\">href</span><span style=\"color: #666666\">=</span><span style=\"color: #BA2121\">&quot;/index.php?title=Event:Neutrinet_at_%22Le_Temp_des_Communs%22&quot;</span> <span style=\"color: #7D9029\">title</span><span style=\"color: #666666\">=</span><span style=\"color: #BA2121\">&#39;Event:Neutrinet at &quot;Le Temp des Communs&quot;&#39;</span>&gt;\n",
       "    Neutrinet at &quot;Le Temp des Communs&quot;\n",
       "   &lt;/<span style=\"color: #008000; font-weight: bold\">a</span>&gt;\n",
       "  &lt;/<span style=\"color: #008000; font-weight: bold\">td</span>&gt;\n",
       "  &lt;<span style=\"color: #008000; font-weight: bold\">td</span>&gt;\n",
       "   5 October 2015 20:00:00\n",
       "  &lt;/<span style=\"color: #008000; font-weight: bold\">td</span>&gt;\n",
       "  &lt;<span style=\"color: #008000; font-weight: bold\">td</span>&gt;\n",
       "  &lt;/<span style=\"color: #008000; font-weight: bold\">td</span>&gt;\n",
       "  &lt;<span style=\"color: #008000; font-weight: bold\">td</span>&gt;\n",
       "   bram\n",
       "  &lt;/<span style=\"color: #008000; font-weight: bold\">td</span>&gt;\n",
       "  &lt;<span style=\"color: #008000; font-weight: bold\">td</span>&gt;\n",
       "   World Trade Center I Boulevard du Roi Albert II 30 bte 5 B-1000 Bruxelles\n",
       "  &lt;/<span style=\"color: #008000; font-weight: bold\">td</span>&gt;\n",
       " &lt;/<span style=\"color: #008000; font-weight: bold\">tr</span>&gt;\n",
       " &lt;<span style=\"color: #008000; font-weight: bold\">tr</span>&gt;\n",
       "  &lt;<span style=\"color: #008000; font-weight: bold\">td</span>&gt;\n",
       "   &lt;<span style=\"color: #008000; font-weight: bold\">a</span> <span style=\"color: #7D9029\">href</span><span style=\"color: #666666\">=</span><span style=\"color: #BA2121\">&quot;/index.php?title=Event:Meeting_2015/12_(General_Assembly)&quot;</span> <span style=\"color: #7D9029\">title</span><span style=\"color: #666666\">=</span><span style=\"color: #BA2121\">&quot;Event:Meeting 2015/12 (General Assembly)&quot;</span>&gt;\n",
       "    Meeting 2015/12 (General Assembly)\n",
       "   &lt;/<span style=\"color: #008000; font-weight: bold\">a</span>&gt;\n",
       "  &lt;/<span style=\"color: #008000; font-weight: bold\">td</span>&gt;\n",
       "  &lt;<span style=\"color: #008000; font-weight: bold\">td</span>&gt;\n",
       "   24 September 2015 19:30:00\n",
       "  &lt;/<span style=\"color: #008000; font-weight: bold\">td</span>&gt;\n",
       "  &lt;<span style=\"color: #008000; font-weight: bold\">td</span>&gt;\n",
       "  &lt;/<span style=\"color: #008000; font-weight: bold\">td</span>&gt;\n",
       "  &lt;<span style=\"color: #008000; font-weight: bold\">td</span>&gt;\n",
       "   bram\n",
       "  &lt;/<span style=\"color: #008000; font-weight: bold\">td</span>&gt;\n",
       "  &lt;<span style=\"color: #008000; font-weight: bold\">td</span>&gt;\n",
       "   World Trade Center, tower I, floor 25, 28-30 boulevard du roi Albert II, Bruxelles\n",
       "  &lt;/<span style=\"color: #008000; font-weight: bold\">td</span>&gt;\n",
       " &lt;/<span style=\"color: #008000; font-weight: bold\">tr</span>&gt;\n",
       " &lt;<span style=\"color: #008000; font-weight: bold\">tr</span>&gt;\n",
       "  &lt;<span style=\"color: #008000; font-weight: bold\">td</span>&gt;\n",
       "   &lt;<span style=\"color: #008000; font-weight: bold\">a</span> <span style=\"color: #7D9029\">href</span><span style=\"color: #666666\">=</span><span style=\"color: #BA2121\">&quot;/index.php?title=Event:Stand_FFDN_(donc_dont_Neutrinet)_%C3%A0_la_Braderie_de_Lille&quot;</span> <span style=\"color: #7D9029\">title</span><span style=\"color: #666666\">=</span><span style=\"color: #BA2121\">&quot;Event:Stand FFDN (donc dont Neutrinet) à la Braderie de Lille&quot;</span>&gt;\n",
       "    Stand FFDN (donc dont Neutrinet) à la Braderie de Lille\n",
       "   &lt;/<span style=\"color: #008000; font-weight: bold\">a</span>&gt;\n",
       "  &lt;/<span style=\"color: #008000; font-weight: bold\">td</span>&gt;\n",
       "  &lt;<span style=\"color: #008000; font-weight: bold\">td</span>&gt;\n",
       "   5 September 2015 13:00:00\n",
       "  &lt;/<span style=\"color: #008000; font-weight: bold\">td</span>&gt;\n",
       "  &lt;<span style=\"color: #008000; font-weight: bold\">td</span>&gt;\n",
       "  &lt;/<span style=\"color: #008000; font-weight: bold\">td</span>&gt;\n",
       "  &lt;<span style=\"color: #008000; font-weight: bold\">td</span>&gt;\n",
       "   bram\n",
       "  &lt;/<span style=\"color: #008000; font-weight: bold\">td</span>&gt;\n",
       "  &lt;<span style=\"color: #008000; font-weight: bold\">td</span>&gt;\n",
       "   Lille\n",
       "  &lt;/<span style=\"color: #008000; font-weight: bold\">td</span>&gt;\n",
       " &lt;/<span style=\"color: #008000; font-weight: bold\">tr</span>&gt;\n",
       " &lt;<span style=\"color: #008000; font-weight: bold\">tr</span>&gt;\n",
       "  &lt;<span style=\"color: #008000; font-weight: bold\">td</span>&gt;\n",
       "   &lt;<span style=\"color: #008000; font-weight: bold\">a</span> <span style=\"color: #7D9029\">href</span><span style=\"color: #666666\">=</span><span style=\"color: #BA2121\">&quot;/index.php?title=Event:Meeting_2015/11&quot;</span> <span style=\"color: #7D9029\">title</span><span style=\"color: #666666\">=</span><span style=\"color: #BA2121\">&quot;Event:Meeting 2015/11&quot;</span>&gt;\n",
       "    Meeting 2015/11\n",
       "   &lt;/<span style=\"color: #008000; font-weight: bold\">a</span>&gt;\n",
       "  &lt;/<span style=\"color: #008000; font-weight: bold\">td</span>&gt;\n",
       "  &lt;<span style=\"color: #008000; font-weight: bold\">td</span>&gt;\n",
       "   20 August 2015 19:30:00\n",
       "  &lt;/<span style=\"color: #008000; font-weight: bold\">td</span>&gt;\n",
       "  &lt;<span style=\"color: #008000; font-weight: bold\">td</span>&gt;\n",
       "  &lt;/<span style=\"color: #008000; font-weight: bold\">td</span>&gt;\n",
       "  &lt;<span style=\"color: #008000; font-weight: bold\">td</span>&gt;\n",
       "   bram\n",
       "  &lt;/<span style=\"color: #008000; font-weight: bold\">td</span>&gt;\n",
       "  &lt;<span style=\"color: #008000; font-weight: bold\">td</span>&gt;\n",
       "   123 rue royale 1000 Bruxelles Belgique\n",
       "  &lt;/<span style=\"color: #008000; font-weight: bold\">td</span>&gt;\n",
       " &lt;/<span style=\"color: #008000; font-weight: bold\">tr</span>&gt;\n",
       " &lt;<span style=\"color: #008000; font-weight: bold\">tr</span>&gt;\n",
       "  &lt;<span style=\"color: #008000; font-weight: bold\">td</span>&gt;\n",
       "   &lt;<span style=\"color: #008000; font-weight: bold\">a</span> <span style=\"color: #7D9029\">href</span><span style=\"color: #666666\">=</span><span style=\"color: #BA2121\">&quot;/index.php?title=Event:Meeting_2015/10&quot;</span> <span style=\"color: #7D9029\">title</span><span style=\"color: #666666\">=</span><span style=\"color: #BA2121\">&quot;Event:Meeting 2015/10&quot;</span>&gt;\n",
       "    Meeting 2015/10\n",
       "   &lt;/<span style=\"color: #008000; font-weight: bold\">a</span>&gt;\n",
       "  &lt;/<span style=\"color: #008000; font-weight: bold\">td</span>&gt;\n",
       "  &lt;<span style=\"color: #008000; font-weight: bold\">td</span>&gt;\n",
       "   23 July 2015 19:30:00\n",
       "  &lt;/<span style=\"color: #008000; font-weight: bold\">td</span>&gt;\n",
       "  &lt;<span style=\"color: #008000; font-weight: bold\">td</span>&gt;\n",
       "  &lt;/<span style=\"color: #008000; font-weight: bold\">td</span>&gt;\n",
       "  &lt;<span style=\"color: #008000; font-weight: bold\">td</span>&gt;\n",
       "   bram\n",
       "  &lt;/<span style=\"color: #008000; font-weight: bold\">td</span>&gt;\n",
       "  &lt;<span style=\"color: #008000; font-weight: bold\">td</span>&gt;\n",
       "   123 rue royale 1000 Bruxelles Belgique\n",
       "  &lt;/<span style=\"color: #008000; font-weight: bold\">td</span>&gt;\n",
       " &lt;/<span style=\"color: #008000; font-weight: bold\">tr</span>&gt;\n",
       " &lt;<span style=\"color: #008000; font-weight: bold\">tr</span>&gt;\n",
       "  &lt;<span style=\"color: #008000; font-weight: bold\">td</span>&gt;\n",
       "   &lt;<span style=\"color: #008000; font-weight: bold\">a</span> <span style=\"color: #7D9029\">href</span><span style=\"color: #666666\">=</span><span style=\"color: #BA2121\">&quot;/index.php?title=Event:Meeting_2015/09&quot;</span> <span style=\"color: #7D9029\">title</span><span style=\"color: #666666\">=</span><span style=\"color: #BA2121\">&quot;Event:Meeting 2015/09&quot;</span>&gt;\n",
       "    Meeting 2015/09\n",
       "   &lt;/<span style=\"color: #008000; font-weight: bold\">a</span>&gt;\n",
       "  &lt;/<span style=\"color: #008000; font-weight: bold\">td</span>&gt;\n",
       "  &lt;<span style=\"color: #008000; font-weight: bold\">td</span>&gt;\n",
       "   8 July 2015 19:00:00\n",
       "  &lt;/<span style=\"color: #008000; font-weight: bold\">td</span>&gt;\n",
       "  &lt;<span style=\"color: #008000; font-weight: bold\">td</span>&gt;\n",
       "  &lt;/<span style=\"color: #008000; font-weight: bold\">td</span>&gt;\n",
       "  &lt;<span style=\"color: #008000; font-weight: bold\">td</span>&gt;\n",
       "   bram\n",
       "  &lt;/<span style=\"color: #008000; font-weight: bold\">td</span>&gt;\n",
       "  &lt;<span style=\"color: #008000; font-weight: bold\">td</span>&gt;\n",
       "   123 rue royale 1000 Bruxelles Belgique\n",
       "  &lt;/<span style=\"color: #008000; font-weight: bold\">td</span>&gt;\n",
       " &lt;/<span style=\"color: #008000; font-weight: bold\">tr</span>&gt;\n",
       " &lt;<span style=\"color: #008000; font-weight: bold\">tr</span>&gt;\n",
       "  &lt;<span style=\"color: #008000; font-weight: bold\">td</span>&gt;\n",
       "   &lt;<span style=\"color: #008000; font-weight: bold\">a</span> <span style=\"color: #7D9029\">href</span><span style=\"color: #666666\">=</span><span style=\"color: #BA2121\">&quot;/index.php?title=Event:Install_Party&quot;</span> <span style=\"color: #7D9029\">title</span><span style=\"color: #666666\">=</span><span style=\"color: #BA2121\">&quot;Event:Install Party&quot;</span>&gt;\n",
       "    Install Party\n",
       "   &lt;/<span style=\"color: #008000; font-weight: bold\">a</span>&gt;\n",
       "  &lt;/<span style=\"color: #008000; font-weight: bold\">td</span>&gt;\n",
       "  &lt;<span style=\"color: #008000; font-weight: bold\">td</span>&gt;\n",
       "   2 July 2015 19:00:00\n",
       "  &lt;/<span style=\"color: #008000; font-weight: bold\">td</span>&gt;\n",
       "  &lt;<span style=\"color: #008000; font-weight: bold\">td</span>&gt;\n",
       "  &lt;/<span style=\"color: #008000; font-weight: bold\">td</span>&gt;\n",
       "  &lt;<span style=\"color: #008000; font-weight: bold\">td</span>&gt;\n",
       "   Bram\n",
       "  &lt;/<span style=\"color: #008000; font-weight: bold\">td</span>&gt;\n",
       "  &lt;<span style=\"color: #008000; font-weight: bold\">td</span>&gt;\n",
       "   123 rue royale\n",
       "  &lt;/<span style=\"color: #008000; font-weight: bold\">td</span>&gt;\n",
       " &lt;/<span style=\"color: #008000; font-weight: bold\">tr</span>&gt;\n",
       " &lt;<span style=\"color: #008000; font-weight: bold\">tr</span>&gt;\n",
       "  &lt;<span style=\"color: #008000; font-weight: bold\">td</span>&gt;\n",
       "   &lt;<span style=\"color: #008000; font-weight: bold\">a</span> <span style=\"color: #7D9029\">href</span><span style=\"color: #666666\">=</span><span style=\"color: #BA2121\">&quot;/index.php?title=Event:Meeting_2015/08&quot;</span> <span style=\"color: #7D9029\">title</span><span style=\"color: #666666\">=</span><span style=\"color: #BA2121\">&quot;Event:Meeting 2015/08&quot;</span>&gt;\n",
       "    Meeting 2015/08\n",
       "   &lt;/<span style=\"color: #008000; font-weight: bold\">a</span>&gt;\n",
       "  &lt;/<span style=\"color: #008000; font-weight: bold\">td</span>&gt;\n",
       "  &lt;<span style=\"color: #008000; font-weight: bold\">td</span>&gt;\n",
       "   18 June 2015 20:00:00\n",
       "  &lt;/<span style=\"color: #008000; font-weight: bold\">td</span>&gt;\n",
       "  &lt;<span style=\"color: #008000; font-weight: bold\">td</span>&gt;\n",
       "  &lt;/<span style=\"color: #008000; font-weight: bold\">td</span>&gt;\n",
       "  &lt;<span style=\"color: #008000; font-weight: bold\">td</span>&gt;\n",
       "  &lt;/<span style=\"color: #008000; font-weight: bold\">td</span>&gt;\n",
       "  &lt;<span style=\"color: #008000; font-weight: bold\">td</span>&gt;\n",
       "   Rue du Canal 45, BXL\n",
       "  &lt;/<span style=\"color: #008000; font-weight: bold\">td</span>&gt;\n",
       " &lt;/<span style=\"color: #008000; font-weight: bold\">tr</span>&gt;\n",
       " &lt;<span style=\"color: #008000; font-weight: bold\">tr</span>&gt;\n",
       "  &lt;<span style=\"color: #008000; font-weight: bold\">td</span>&gt;\n",
       "   &lt;<span style=\"color: #008000; font-weight: bold\">a</span> <span style=\"color: #7D9029\">href</span><span style=\"color: #666666\">=</span><span style=\"color: #BA2121\">&quot;/index.php?title=Event:Meeting_2015/07&quot;</span> <span style=\"color: #7D9029\">title</span><span style=\"color: #666666\">=</span><span style=\"color: #BA2121\">&quot;Event:Meeting 2015/07&quot;</span>&gt;\n",
       "    Meeting 2015/07\n",
       "   &lt;/<span style=\"color: #008000; font-weight: bold\">a</span>&gt;\n",
       "  &lt;/<span style=\"color: #008000; font-weight: bold\">td</span>&gt;\n",
       "  &lt;<span style=\"color: #008000; font-weight: bold\">td</span>&gt;\n",
       "   7 June 2015 14:00:00\n",
       "  &lt;/<span style=\"color: #008000; font-weight: bold\">td</span>&gt;\n",
       "  &lt;<span style=\"color: #008000; font-weight: bold\">td</span>&gt;\n",
       "  &lt;/<span style=\"color: #008000; font-weight: bold\">td</span>&gt;\n",
       "  &lt;<span style=\"color: #008000; font-weight: bold\">td</span>&gt;\n",
       "   Yvan\n",
       "  &lt;/<span style=\"color: #008000; font-weight: bold\">td</span>&gt;\n",
       "  &lt;<span style=\"color: #008000; font-weight: bold\">td</span>&gt;\n",
       "   Poissonnerie (Bruxelles)\n",
       "  &lt;/<span style=\"color: #008000; font-weight: bold\">td</span>&gt;\n",
       " &lt;/<span style=\"color: #008000; font-weight: bold\">tr</span>&gt;\n",
       " &lt;<span style=\"color: #008000; font-weight: bold\">tr</span>&gt;\n",
       "  &lt;<span style=\"color: #008000; font-weight: bold\">td</span>&gt;\n",
       "   &lt;<span style=\"color: #008000; font-weight: bold\">a</span> <span style=\"color: #7D9029\">href</span><span style=\"color: #666666\">=</span><span style=\"color: #BA2121\">&quot;/index.php?title=Event:Meeting_2015/06&quot;</span> <span style=\"color: #7D9029\">title</span><span style=\"color: #666666\">=</span><span style=\"color: #BA2121\">&quot;Event:Meeting 2015/06&quot;</span>&gt;\n",
       "    Meeting 2015/06\n",
       "   &lt;/<span style=\"color: #008000; font-weight: bold\">a</span>&gt;\n",
       "  &lt;/<span style=\"color: #008000; font-weight: bold\">td</span>&gt;\n",
       "  &lt;<span style=\"color: #008000; font-weight: bold\">td</span>&gt;\n",
       "   21 May 2015 19:30:00\n",
       "  &lt;/<span style=\"color: #008000; font-weight: bold\">td</span>&gt;\n",
       "  &lt;<span style=\"color: #008000; font-weight: bold\">td</span>&gt;\n",
       "  &lt;/<span style=\"color: #008000; font-weight: bold\">td</span>&gt;\n",
       "  &lt;<span style=\"color: #008000; font-weight: bold\">td</span>&gt;\n",
       "   Bram\n",
       "  &lt;/<span style=\"color: #008000; font-weight: bold\">td</span>&gt;\n",
       "  &lt;<span style=\"color: #008000; font-weight: bold\">td</span>&gt;\n",
       "   F/LAT 45 rue du canal Bruxelles\n",
       "  &lt;/<span style=\"color: #008000; font-weight: bold\">td</span>&gt;\n",
       " &lt;/<span style=\"color: #008000; font-weight: bold\">tr</span>&gt;\n",
       " &lt;<span style=\"color: #008000; font-weight: bold\">tr</span>&gt;\n",
       "  &lt;<span style=\"color: #008000; font-weight: bold\">td</span>&gt;\n",
       "   &lt;<span style=\"color: #008000; font-weight: bold\">a</span> <span style=\"color: #7D9029\">href</span><span style=\"color: #666666\">=</span><span style=\"color: #BA2121\">&quot;/index.php?title=Event:Meeting_2015/05&quot;</span> <span style=\"color: #7D9029\">title</span><span style=\"color: #666666\">=</span><span style=\"color: #BA2121\">&quot;Event:Meeting 2015/05&quot;</span>&gt;\n",
       "    Meeting 2015/05\n",
       "   &lt;/<span style=\"color: #008000; font-weight: bold\">a</span>&gt;\n",
       "  &lt;/<span style=\"color: #008000; font-weight: bold\">td</span>&gt;\n",
       "  &lt;<span style=\"color: #008000; font-weight: bold\">td</span>&gt;\n",
       "   16 April 2015 19:30:00\n",
       "  &lt;/<span style=\"color: #008000; font-weight: bold\">td</span>&gt;\n",
       "  &lt;<span style=\"color: #008000; font-weight: bold\">td</span>&gt;\n",
       "  &lt;/<span style=\"color: #008000; font-weight: bold\">td</span>&gt;\n",
       "  &lt;<span style=\"color: #008000; font-weight: bold\">td</span>&gt;\n",
       "   Bram\n",
       "  &lt;/<span style=\"color: #008000; font-weight: bold\">td</span>&gt;\n",
       "  &lt;<span style=\"color: #008000; font-weight: bold\">td</span>&gt;\n",
       "   F/LAT\n",
       "  &lt;/<span style=\"color: #008000; font-weight: bold\">td</span>&gt;\n",
       " &lt;/<span style=\"color: #008000; font-weight: bold\">tr</span>&gt;\n",
       " &lt;<span style=\"color: #008000; font-weight: bold\">tr</span>&gt;\n",
       "  &lt;<span style=\"color: #008000; font-weight: bold\">td</span>&gt;\n",
       "   &lt;<span style=\"color: #008000; font-weight: bold\">a</span> <span style=\"color: #7D9029\">href</span><span style=\"color: #666666\">=</span><span style=\"color: #BA2121\">&quot;/index.php?title=Event:Meeting_2015/04&quot;</span> <span style=\"color: #7D9029\">title</span><span style=\"color: #666666\">=</span><span style=\"color: #BA2121\">&quot;Event:Meeting 2015/04&quot;</span>&gt;\n",
       "    Meeting 2015/04\n",
       "   &lt;/<span style=\"color: #008000; font-weight: bold\">a</span>&gt;\n",
       "  &lt;/<span style=\"color: #008000; font-weight: bold\">td</span>&gt;\n",
       "  &lt;<span style=\"color: #008000; font-weight: bold\">td</span>&gt;\n",
       "   2 April 2015 19:30:00\n",
       "  &lt;/<span style=\"color: #008000; font-weight: bold\">td</span>&gt;\n",
       "  &lt;<span style=\"color: #008000; font-weight: bold\">td</span>&gt;\n",
       "  &lt;/<span style=\"color: #008000; font-weight: bold\">td</span>&gt;\n",
       "  &lt;<span style=\"color: #008000; font-weight: bold\">td</span>&gt;\n",
       "  &lt;/<span style=\"color: #008000; font-weight: bold\">td</span>&gt;\n",
       "  &lt;<span style=\"color: #008000; font-weight: bold\">td</span>&gt;\n",
       "   F/LAT\n",
       "  &lt;/<span style=\"color: #008000; font-weight: bold\">td</span>&gt;\n",
       " &lt;/<span style=\"color: #008000; font-weight: bold\">tr</span>&gt;\n",
       " &lt;<span style=\"color: #008000; font-weight: bold\">tr</span>&gt;\n",
       "  &lt;<span style=\"color: #008000; font-weight: bold\">td</span>&gt;\n",
       "   &lt;<span style=\"color: #008000; font-weight: bold\">a</span> <span style=\"color: #7D9029\">href</span><span style=\"color: #666666\">=</span><span style=\"color: #BA2121\">&quot;/index.php?title=Event:Meeting_2015/03&quot;</span> <span style=\"color: #7D9029\">title</span><span style=\"color: #666666\">=</span><span style=\"color: #BA2121\">&quot;Event:Meeting 2015/03&quot;</span>&gt;\n",
       "    Meeting 2015/03\n",
       "   &lt;/<span style=\"color: #008000; font-weight: bold\">a</span>&gt;\n",
       "  &lt;/<span style=\"color: #008000; font-weight: bold\">td</span>&gt;\n",
       "  &lt;<span style=\"color: #008000; font-weight: bold\">td</span>&gt;\n",
       "   12 March 2015 00:00:00\n",
       "  &lt;/<span style=\"color: #008000; font-weight: bold\">td</span>&gt;\n",
       "  &lt;<span style=\"color: #008000; font-weight: bold\">td</span>&gt;\n",
       "  &lt;/<span style=\"color: #008000; font-weight: bold\">td</span>&gt;\n",
       "  &lt;<span style=\"color: #008000; font-weight: bold\">td</span>&gt;\n",
       "  &lt;/<span style=\"color: #008000; font-weight: bold\">td</span>&gt;\n",
       "  &lt;<span style=\"color: #008000; font-weight: bold\">td</span>&gt;\n",
       "   F/LAT\n",
       "  &lt;/<span style=\"color: #008000; font-weight: bold\">td</span>&gt;\n",
       " &lt;/<span style=\"color: #008000; font-weight: bold\">tr</span>&gt;\n",
       " &lt;<span style=\"color: #008000; font-weight: bold\">tr</span>&gt;\n",
       "  &lt;<span style=\"color: #008000; font-weight: bold\">td</span>&gt;\n",
       "   &lt;<span style=\"color: #008000; font-weight: bold\">a</span> <span style=\"color: #7D9029\">href</span><span style=\"color: #666666\">=</span><span style=\"color: #BA2121\">&quot;/index.php?title=Event:Meeting_2015/02&quot;</span> <span style=\"color: #7D9029\">title</span><span style=\"color: #666666\">=</span><span style=\"color: #BA2121\">&quot;Event:Meeting 2015/02&quot;</span>&gt;\n",
       "    Meeting 2015/02\n",
       "   &lt;/<span style=\"color: #008000; font-weight: bold\">a</span>&gt;\n",
       "  &lt;/<span style=\"color: #008000; font-weight: bold\">td</span>&gt;\n",
       "  &lt;<span style=\"color: #008000; font-weight: bold\">td</span>&gt;\n",
       "   5 February 2015 19:30:00\n",
       "  &lt;/<span style=\"color: #008000; font-weight: bold\">td</span>&gt;\n",
       "  &lt;<span style=\"color: #008000; font-weight: bold\">td</span>&gt;\n",
       "  &lt;/<span style=\"color: #008000; font-weight: bold\">td</span>&gt;\n",
       "  &lt;<span style=\"color: #008000; font-weight: bold\">td</span>&gt;\n",
       "  &lt;/<span style=\"color: #008000; font-weight: bold\">td</span>&gt;\n",
       "  &lt;<span style=\"color: #008000; font-weight: bold\">td</span>&gt;\n",
       "   45 rue du canal\n",
       "  &lt;/<span style=\"color: #008000; font-weight: bold\">td</span>&gt;\n",
       " &lt;/<span style=\"color: #008000; font-weight: bold\">tr</span>&gt;\n",
       " &lt;<span style=\"color: #008000; font-weight: bold\">tr</span>&gt;\n",
       "  &lt;<span style=\"color: #008000; font-weight: bold\">td</span>&gt;\n",
       "   &lt;<span style=\"color: #008000; font-weight: bold\">a</span> <span style=\"color: #7D9029\">href</span><span style=\"color: #666666\">=</span><span style=\"color: #BA2121\">&quot;/index.php?title=Event:FOSDEM_DIY-ISP_meetup&quot;</span> <span style=\"color: #7D9029\">title</span><span style=\"color: #666666\">=</span><span style=\"color: #BA2121\">&quot;Event:FOSDEM DIY-ISP meetup&quot;</span>&gt;\n",
       "    FOSDEM DIY-ISP meetup\n",
       "   &lt;/<span style=\"color: #008000; font-weight: bold\">a</span>&gt;\n",
       "  &lt;/<span style=\"color: #008000; font-weight: bold\">td</span>&gt;\n",
       "  &lt;<span style=\"color: #008000; font-weight: bold\">td</span>&gt;\n",
       "   1 February 2015 16:00:00\n",
       "  &lt;/<span style=\"color: #008000; font-weight: bold\">td</span>&gt;\n",
       "  &lt;<span style=\"color: #008000; font-weight: bold\">td</span>&gt;\n",
       "  &lt;/<span style=\"color: #008000; font-weight: bold\">td</span>&gt;\n",
       "  &lt;<span style=\"color: #008000; font-weight: bold\">td</span>&gt;\n",
       "  &lt;/<span style=\"color: #008000; font-weight: bold\">td</span>&gt;\n",
       "  &lt;<span style=\"color: #008000; font-weight: bold\">td</span>&gt;\n",
       "   Urlab, Avenue Buyl 131, 1050 Ixelles\n",
       "  &lt;/<span style=\"color: #008000; font-weight: bold\">td</span>&gt;\n",
       " &lt;/<span style=\"color: #008000; font-weight: bold\">tr</span>&gt;\n",
       " &lt;<span style=\"color: #008000; font-weight: bold\">tr</span>&gt;\n",
       "  &lt;<span style=\"color: #008000; font-weight: bold\">td</span>&gt;\n",
       "   &lt;<span style=\"color: #008000; font-weight: bold\">a</span> <span style=\"color: #7D9029\">href</span><span style=\"color: #666666\">=</span><span style=\"color: #BA2121\">&quot;/index.php?title=Event:Meeting_2015/01_--_Assembl%C3%A9e_G%C3%A9n%C3%A9rale&quot;</span> <span style=\"color: #7D9029\">title</span><span style=\"color: #666666\">=</span><span style=\"color: #BA2121\">&quot;Event:Meeting 2015/01 -- Assemblée Générale&quot;</span>&gt;\n",
       "    Meeting 2015/01 -- Assemblée Générale\n",
       "   &lt;/<span style=\"color: #008000; font-weight: bold\">a</span>&gt;\n",
       "  &lt;/<span style=\"color: #008000; font-weight: bold\">td</span>&gt;\n",
       "  &lt;<span style=\"color: #008000; font-weight: bold\">td</span>&gt;\n",
       "   15 January 2015 19:30:00\n",
       "  &lt;/<span style=\"color: #008000; font-weight: bold\">td</span>&gt;\n",
       "  &lt;<span style=\"color: #008000; font-weight: bold\">td</span>&gt;\n",
       "  &lt;/<span style=\"color: #008000; font-weight: bold\">td</span>&gt;\n",
       "  &lt;<span style=\"color: #008000; font-weight: bold\">td</span>&gt;\n",
       "  &lt;/<span style=\"color: #008000; font-weight: bold\">td</span>&gt;\n",
       "  &lt;<span style=\"color: #008000; font-weight: bold\">td</span>&gt;\n",
       "   123 Rue Royale, BXL\n",
       "  &lt;/<span style=\"color: #008000; font-weight: bold\">td</span>&gt;\n",
       " &lt;/<span style=\"color: #008000; font-weight: bold\">tr</span>&gt;\n",
       " &lt;<span style=\"color: #008000; font-weight: bold\">tr</span>&gt;\n",
       "  &lt;<span style=\"color: #008000; font-weight: bold\">td</span>&gt;\n",
       "   &lt;<span style=\"color: #008000; font-weight: bold\">a</span> <span style=\"color: #7D9029\">href</span><span style=\"color: #666666\">=</span><span style=\"color: #BA2121\">&quot;/index.php?title=Event:Meeting_2014/18&quot;</span> <span style=\"color: #7D9029\">title</span><span style=\"color: #666666\">=</span><span style=\"color: #BA2121\">&quot;Event:Meeting 2014/18&quot;</span>&gt;\n",
       "    Meeting 2014/18\n",
       "   &lt;/<span style=\"color: #008000; font-weight: bold\">a</span>&gt;\n",
       "  &lt;/<span style=\"color: #008000; font-weight: bold\">td</span>&gt;\n",
       "  &lt;<span style=\"color: #008000; font-weight: bold\">td</span>&gt;\n",
       "   17 December 2014 19:30:00\n",
       "  &lt;/<span style=\"color: #008000; font-weight: bold\">td</span>&gt;\n",
       "  &lt;<span style=\"color: #008000; font-weight: bold\">td</span>&gt;\n",
       "  &lt;/<span style=\"color: #008000; font-weight: bold\">td</span>&gt;\n",
       "  &lt;<span style=\"color: #008000; font-weight: bold\">td</span>&gt;\n",
       "   Bram\n",
       "  &lt;/<span style=\"color: #008000; font-weight: bold\">td</span>&gt;\n",
       "  &lt;<span style=\"color: #008000; font-weight: bold\">td</span>&gt;\n",
       "   123 Rue Royale, BXL\n",
       "  &lt;/<span style=\"color: #008000; font-weight: bold\">td</span>&gt;\n",
       " &lt;/<span style=\"color: #008000; font-weight: bold\">tr</span>&gt;\n",
       " &lt;<span style=\"color: #008000; font-weight: bold\">tr</span>&gt;\n",
       "  &lt;<span style=\"color: #008000; font-weight: bold\">td</span>&gt;\n",
       "   &lt;<span style=\"color: #008000; font-weight: bold\">a</span> <span style=\"color: #7D9029\">href</span><span style=\"color: #666666\">=</span><span style=\"color: #BA2121\">&quot;/index.php?title=Event:Meeting_2014/17&quot;</span> <span style=\"color: #7D9029\">title</span><span style=\"color: #666666\">=</span><span style=\"color: #BA2121\">&quot;Event:Meeting 2014/17&quot;</span>&gt;\n",
       "    Meeting 2014/17\n",
       "   &lt;/<span style=\"color: #008000; font-weight: bold\">a</span>&gt;\n",
       "  &lt;/<span style=\"color: #008000; font-weight: bold\">td</span>&gt;\n",
       "  &lt;<span style=\"color: #008000; font-weight: bold\">td</span>&gt;\n",
       "   10 December 2014 19:30:00\n",
       "  &lt;/<span style=\"color: #008000; font-weight: bold\">td</span>&gt;\n",
       "  &lt;<span style=\"color: #008000; font-weight: bold\">td</span>&gt;\n",
       "  &lt;/<span style=\"color: #008000; font-weight: bold\">td</span>&gt;\n",
       "  &lt;<span style=\"color: #008000; font-weight: bold\">td</span>&gt;\n",
       "  &lt;/<span style=\"color: #008000; font-weight: bold\">td</span>&gt;\n",
       "  &lt;<span style=\"color: #008000; font-weight: bold\">td</span>&gt;\n",
       "   123 Rue Royale, BXL\n",
       "  &lt;/<span style=\"color: #008000; font-weight: bold\">td</span>&gt;\n",
       " &lt;/<span style=\"color: #008000; font-weight: bold\">tr</span>&gt;\n",
       " &lt;<span style=\"color: #008000; font-weight: bold\">tr</span>&gt;\n",
       "  &lt;<span style=\"color: #008000; font-weight: bold\">td</span>&gt;\n",
       "   &lt;<span style=\"color: #008000; font-weight: bold\">a</span> <span style=\"color: #7D9029\">href</span><span style=\"color: #666666\">=</span><span style=\"color: #BA2121\">&quot;/index.php?title=Event:Meeting_2014/16&quot;</span> <span style=\"color: #7D9029\">title</span><span style=\"color: #666666\">=</span><span style=\"color: #BA2121\">&quot;Event:Meeting 2014/16&quot;</span>&gt;\n",
       "    Meeting 2014/16\n",
       "   &lt;/<span style=\"color: #008000; font-weight: bold\">a</span>&gt;\n",
       "  &lt;/<span style=\"color: #008000; font-weight: bold\">td</span>&gt;\n",
       "  &lt;<span style=\"color: #008000; font-weight: bold\">td</span>&gt;\n",
       "   20 November 2014 19:30:00\n",
       "  &lt;/<span style=\"color: #008000; font-weight: bold\">td</span>&gt;\n",
       "  &lt;<span style=\"color: #008000; font-weight: bold\">td</span>&gt;\n",
       "  &lt;/<span style=\"color: #008000; font-weight: bold\">td</span>&gt;\n",
       "  &lt;<span style=\"color: #008000; font-weight: bold\">td</span>&gt;\n",
       "   Neutrinet\n",
       "  &lt;/<span style=\"color: #008000; font-weight: bold\">td</span>&gt;\n",
       "  &lt;<span style=\"color: #008000; font-weight: bold\">td</span>&gt;\n",
       "   123 rue Royale - 1000 Bruxelles - 4eme étage local FEBUL\n",
       "  &lt;/<span style=\"color: #008000; font-weight: bold\">td</span>&gt;\n",
       " &lt;/<span style=\"color: #008000; font-weight: bold\">tr</span>&gt;\n",
       " &lt;<span style=\"color: #008000; font-weight: bold\">tr</span>&gt;\n",
       "  &lt;<span style=\"color: #008000; font-weight: bold\">td</span>&gt;\n",
       "   &lt;<span style=\"color: #008000; font-weight: bold\">a</span> <span style=\"color: #7D9029\">href</span><span style=\"color: #666666\">=</span><span style=\"color: #BA2121\">&quot;/index.php?title=Event:Meeting_2014/15&quot;</span> <span style=\"color: #7D9029\">title</span><span style=\"color: #666666\">=</span><span style=\"color: #BA2121\">&quot;Event:Meeting 2014/15&quot;</span>&gt;\n",
       "    Meeting 2014/15\n",
       "   &lt;/<span style=\"color: #008000; font-weight: bold\">a</span>&gt;\n",
       "  &lt;/<span style=\"color: #008000; font-weight: bold\">td</span>&gt;\n",
       "  &lt;<span style=\"color: #008000; font-weight: bold\">td</span>&gt;\n",
       "   16 October 2014 19:30:00\n",
       "  &lt;/<span style=\"color: #008000; font-weight: bold\">td</span>&gt;\n",
       "  &lt;<span style=\"color: #008000; font-weight: bold\">td</span>&gt;\n",
       "  &lt;/<span style=\"color: #008000; font-weight: bold\">td</span>&gt;\n",
       "  &lt;<span style=\"color: #008000; font-weight: bold\">td</span>&gt;\n",
       "   Neutrinet\n",
       "  &lt;/<span style=\"color: #008000; font-weight: bold\">td</span>&gt;\n",
       "  &lt;<span style=\"color: #008000; font-weight: bold\">td</span>&gt;\n",
       "   45 Rue du Canal, BXL\n",
       "  &lt;/<span style=\"color: #008000; font-weight: bold\">td</span>&gt;\n",
       " &lt;/<span style=\"color: #008000; font-weight: bold\">tr</span>&gt;\n",
       " &lt;<span style=\"color: #008000; font-weight: bold\">tr</span>&gt;\n",
       "  &lt;<span style=\"color: #008000; font-weight: bold\">td</span>&gt;\n",
       "   &lt;<span style=\"color: #008000; font-weight: bold\">a</span> <span style=\"color: #7D9029\">href</span><span style=\"color: #666666\">=</span><span style=\"color: #BA2121\">&quot;/index.php?title=Event:Meeting_2014/14&quot;</span> <span style=\"color: #7D9029\">title</span><span style=\"color: #666666\">=</span><span style=\"color: #BA2121\">&quot;Event:Meeting 2014/14&quot;</span>&gt;\n",
       "    Meeting 2014/14\n",
       "   &lt;/<span style=\"color: #008000; font-weight: bold\">a</span>&gt;\n",
       "  &lt;/<span style=\"color: #008000; font-weight: bold\">td</span>&gt;\n",
       "  &lt;<span style=\"color: #008000; font-weight: bold\">td</span>&gt;\n",
       "   25 September 2014 19:30:00\n",
       "  &lt;/<span style=\"color: #008000; font-weight: bold\">td</span>&gt;\n",
       "  &lt;<span style=\"color: #008000; font-weight: bold\">td</span>&gt;\n",
       "  &lt;/<span style=\"color: #008000; font-weight: bold\">td</span>&gt;\n",
       "  &lt;<span style=\"color: #008000; font-weight: bold\">td</span>&gt;\n",
       "   Neutrinet\n",
       "  &lt;/<span style=\"color: #008000; font-weight: bold\">td</span>&gt;\n",
       "  &lt;<span style=\"color: #008000; font-weight: bold\">td</span>&gt;\n",
       "   45 rue du Canal, 1000 BXL\n",
       "  &lt;/<span style=\"color: #008000; font-weight: bold\">td</span>&gt;\n",
       " &lt;/<span style=\"color: #008000; font-weight: bold\">tr</span>&gt;\n",
       " &lt;<span style=\"color: #008000; font-weight: bold\">tr</span>&gt;\n",
       "  &lt;<span style=\"color: #008000; font-weight: bold\">td</span>&gt;\n",
       "   &lt;<span style=\"color: #008000; font-weight: bold\">a</span> <span style=\"color: #7D9029\">href</span><span style=\"color: #666666\">=</span><span style=\"color: #BA2121\">&quot;/index.php?title=Event:Meeting_2014/13&quot;</span> <span style=\"color: #7D9029\">title</span><span style=\"color: #666666\">=</span><span style=\"color: #BA2121\">&quot;Event:Meeting 2014/13&quot;</span>&gt;\n",
       "    Meeting 2014/13\n",
       "   &lt;/<span style=\"color: #008000; font-weight: bold\">a</span>&gt;\n",
       "  &lt;/<span style=\"color: #008000; font-weight: bold\">td</span>&gt;\n",
       "  &lt;<span style=\"color: #008000; font-weight: bold\">td</span>&gt;\n",
       "   29 August 2014 19:30:00\n",
       "  &lt;/<span style=\"color: #008000; font-weight: bold\">td</span>&gt;\n",
       "  &lt;<span style=\"color: #008000; font-weight: bold\">td</span>&gt;\n",
       "  &lt;/<span style=\"color: #008000; font-weight: bold\">td</span>&gt;\n",
       "  &lt;<span style=\"color: #008000; font-weight: bold\">td</span>&gt;\n",
       "   Neutrinet\n",
       "  &lt;/<span style=\"color: #008000; font-weight: bold\">td</span>&gt;\n",
       "  &lt;<span style=\"color: #008000; font-weight: bold\">td</span>&gt;\n",
       "   123 Rue Royale, BXL\n",
       "  &lt;/<span style=\"color: #008000; font-weight: bold\">td</span>&gt;\n",
       " &lt;/<span style=\"color: #008000; font-weight: bold\">tr</span>&gt;\n",
       " &lt;<span style=\"color: #008000; font-weight: bold\">tr</span>&gt;\n",
       "  &lt;<span style=\"color: #008000; font-weight: bold\">td</span>&gt;\n",
       "   &lt;<span style=\"color: #008000; font-weight: bold\">a</span> <span style=\"color: #7D9029\">href</span><span style=\"color: #666666\">=</span><span style=\"color: #BA2121\">&quot;/index.php?title=Event:Meeting_2014/12&quot;</span> <span style=\"color: #7D9029\">title</span><span style=\"color: #666666\">=</span><span style=\"color: #BA2121\">&quot;Event:Meeting 2014/12&quot;</span>&gt;\n",
       "    Meeting 2014/12\n",
       "   &lt;/<span style=\"color: #008000; font-weight: bold\">a</span>&gt;\n",
       "  &lt;/<span style=\"color: #008000; font-weight: bold\">td</span>&gt;\n",
       "  &lt;<span style=\"color: #008000; font-weight: bold\">td</span>&gt;\n",
       "   31 July 2014 19:30:00\n",
       "  &lt;/<span style=\"color: #008000; font-weight: bold\">td</span>&gt;\n",
       "  &lt;<span style=\"color: #008000; font-weight: bold\">td</span>&gt;\n",
       "  &lt;/<span style=\"color: #008000; font-weight: bold\">td</span>&gt;\n",
       "  &lt;<span style=\"color: #008000; font-weight: bold\">td</span>&gt;\n",
       "   Neutrinet\n",
       "  &lt;/<span style=\"color: #008000; font-weight: bold\">td</span>&gt;\n",
       "  &lt;<span style=\"color: #008000; font-weight: bold\">td</span>&gt;\n",
       "   123 Rue Royale BXL\n",
       "  &lt;/<span style=\"color: #008000; font-weight: bold\">td</span>&gt;\n",
       " &lt;/<span style=\"color: #008000; font-weight: bold\">tr</span>&gt;\n",
       " &lt;<span style=\"color: #008000; font-weight: bold\">tr</span>&gt;\n",
       "  &lt;<span style=\"color: #008000; font-weight: bold\">td</span>&gt;\n",
       "   &lt;<span style=\"color: #008000; font-weight: bold\">a</span> <span style=\"color: #7D9029\">href</span><span style=\"color: #666666\">=</span><span style=\"color: #BA2121\">&quot;/index.php?title=Event:Meeting_2014/11&quot;</span> <span style=\"color: #7D9029\">title</span><span style=\"color: #666666\">=</span><span style=\"color: #BA2121\">&quot;Event:Meeting 2014/11&quot;</span>&gt;\n",
       "    Meeting 2014/11\n",
       "   &lt;/<span style=\"color: #008000; font-weight: bold\">a</span>&gt;\n",
       "  &lt;/<span style=\"color: #008000; font-weight: bold\">td</span>&gt;\n",
       "  &lt;<span style=\"color: #008000; font-weight: bold\">td</span>&gt;\n",
       "   7 July 2014 19:30:00\n",
       "  &lt;/<span style=\"color: #008000; font-weight: bold\">td</span>&gt;\n",
       "  &lt;<span style=\"color: #008000; font-weight: bold\">td</span>&gt;\n",
       "  &lt;/<span style=\"color: #008000; font-weight: bold\">td</span>&gt;\n",
       "  &lt;<span style=\"color: #008000; font-weight: bold\">td</span>&gt;\n",
       "  &lt;/<span style=\"color: #008000; font-weight: bold\">td</span>&gt;\n",
       "  &lt;<span style=\"color: #008000; font-weight: bold\">td</span>&gt;\n",
       "   123 Rue Royale, BXL\n",
       "  &lt;/<span style=\"color: #008000; font-weight: bold\">td</span>&gt;\n",
       " &lt;/<span style=\"color: #008000; font-weight: bold\">tr</span>&gt;\n",
       " &lt;<span style=\"color: #008000; font-weight: bold\">tr</span>&gt;\n",
       "  &lt;<span style=\"color: #008000; font-weight: bold\">td</span>&gt;\n",
       "   &lt;<span style=\"color: #008000; font-weight: bold\">a</span> <span style=\"color: #7D9029\">href</span><span style=\"color: #666666\">=</span><span style=\"color: #BA2121\">&quot;/index.php?title=Event:Meeting_2014/5&quot;</span> <span style=\"color: #7D9029\">title</span><span style=\"color: #666666\">=</span><span style=\"color: #BA2121\">&quot;Event:Meeting 2014/5&quot;</span>&gt;\n",
       "    Meeting 2014/5\n",
       "   &lt;/<span style=\"color: #008000; font-weight: bold\">a</span>&gt;\n",
       "  &lt;/<span style=\"color: #008000; font-weight: bold\">td</span>&gt;\n",
       "  &lt;<span style=\"color: #008000; font-weight: bold\">td</span>&gt;\n",
       "   13 March 2014 19:30:00\n",
       "  &lt;/<span style=\"color: #008000; font-weight: bold\">td</span>&gt;\n",
       "  &lt;<span style=\"color: #008000; font-weight: bold\">td</span>&gt;\n",
       "  &lt;/<span style=\"color: #008000; font-weight: bold\">td</span>&gt;\n",
       "  &lt;<span style=\"color: #008000; font-weight: bold\">td</span>&gt;\n",
       "  &lt;/<span style=\"color: #008000; font-weight: bold\">td</span>&gt;\n",
       "  &lt;<span style=\"color: #008000; font-weight: bold\">td</span>&gt;\n",
       "   123 Rue Royale, BXL\n",
       "  &lt;/<span style=\"color: #008000; font-weight: bold\">td</span>&gt;\n",
       " &lt;/<span style=\"color: #008000; font-weight: bold\">tr</span>&gt;\n",
       " &lt;<span style=\"color: #008000; font-weight: bold\">tr</span>&gt;\n",
       "  &lt;<span style=\"color: #008000; font-weight: bold\">td</span>&gt;\n",
       "   &lt;<span style=\"color: #008000; font-weight: bold\">a</span> <span style=\"color: #7D9029\">href</span><span style=\"color: #666666\">=</span><span style=\"color: #BA2121\">&quot;/index.php?title=Event:Meeting_2013/11&quot;</span> <span style=\"color: #7D9029\">title</span><span style=\"color: #666666\">=</span><span style=\"color: #BA2121\">&quot;Event:Meeting 2013/11&quot;</span>&gt;\n",
       "    Meeting 2013/11\n",
       "   &lt;/<span style=\"color: #008000; font-weight: bold\">a</span>&gt;\n",
       "  &lt;/<span style=\"color: #008000; font-weight: bold\">td</span>&gt;\n",
       "  &lt;<span style=\"color: #008000; font-weight: bold\">td</span>&gt;\n",
       "   21 November 2013 18:00:00\n",
       "  &lt;/<span style=\"color: #008000; font-weight: bold\">td</span>&gt;\n",
       "  &lt;<span style=\"color: #008000; font-weight: bold\">td</span>&gt;\n",
       "   &lt;<span style=\"color: #008000; font-weight: bold\">a</span> <span style=\"color: #7D9029\">href</span><span style=\"color: #666666\">=</span><span style=\"color: #BA2121\">&quot;/index.php?title=Special:SearchByProperty/Tags/AG&quot;</span> <span style=\"color: #7D9029\">title</span><span style=\"color: #666666\">=</span><span style=\"color: #BA2121\">&quot;Special:SearchByProperty/Tags/AG&quot;</span>&gt;\n",
       "    AG\n",
       "   &lt;/<span style=\"color: #008000; font-weight: bold\">a</span>&gt;\n",
       "   ,\n",
       "   &lt;<span style=\"color: #008000; font-weight: bold\">a</span> <span style=\"color: #7D9029\">href</span><span style=\"color: #666666\">=</span><span style=\"color: #BA2121\">&quot;/index.php?title=Special:SearchByProperty/Tags/meeting&quot;</span> <span style=\"color: #7D9029\">title</span><span style=\"color: #666666\">=</span><span style=\"color: #BA2121\">&quot;Special:SearchByProperty/Tags/meeting&quot;</span>&gt;\n",
       "    meeting\n",
       "   &lt;/<span style=\"color: #008000; font-weight: bold\">a</span>&gt;\n",
       "  &lt;/<span style=\"color: #008000; font-weight: bold\">td</span>&gt;\n",
       "  &lt;<span style=\"color: #008000; font-weight: bold\">td</span>&gt;\n",
       "  &lt;/<span style=\"color: #008000; font-weight: bold\">td</span>&gt;\n",
       "  &lt;<span style=\"color: #008000; font-weight: bold\">td</span>&gt;\n",
       "   123 rue royale (Brussels)\n",
       "  &lt;/<span style=\"color: #008000; font-weight: bold\">td</span>&gt;\n",
       " &lt;/<span style=\"color: #008000; font-weight: bold\">tr</span>&gt;\n",
       " &lt;<span style=\"color: #008000; font-weight: bold\">tr</span>&gt;\n",
       "  &lt;<span style=\"color: #008000; font-weight: bold\">td</span>&gt;\n",
       "   &lt;<span style=\"color: #008000; font-weight: bold\">a</span> <span style=\"color: #7D9029\">href</span><span style=\"color: #666666\">=</span><span style=\"color: #BA2121\">&quot;/index.php?title=Event:Meeting_2013/10&quot;</span> <span style=\"color: #7D9029\">title</span><span style=\"color: #666666\">=</span><span style=\"color: #BA2121\">&quot;Event:Meeting 2013/10&quot;</span>&gt;\n",
       "    Meeting 2013/10\n",
       "   &lt;/<span style=\"color: #008000; font-weight: bold\">a</span>&gt;\n",
       "  &lt;/<span style=\"color: #008000; font-weight: bold\">td</span>&gt;\n",
       "  &lt;<span style=\"color: #008000; font-weight: bold\">td</span>&gt;\n",
       "   7 November 2013 19:30:00\n",
       "  &lt;/<span style=\"color: #008000; font-weight: bold\">td</span>&gt;\n",
       "  &lt;<span style=\"color: #008000; font-weight: bold\">td</span>&gt;\n",
       "   &lt;<span style=\"color: #008000; font-weight: bold\">a</span> <span style=\"color: #7D9029\">href</span><span style=\"color: #666666\">=</span><span style=\"color: #BA2121\">&quot;/index.php?title=Special:SearchByProperty/Tags/meeting&quot;</span> <span style=\"color: #7D9029\">title</span><span style=\"color: #666666\">=</span><span style=\"color: #BA2121\">&quot;Special:SearchByProperty/Tags/meeting&quot;</span>&gt;\n",
       "    meeting\n",
       "   &lt;/<span style=\"color: #008000; font-weight: bold\">a</span>&gt;\n",
       "  &lt;/<span style=\"color: #008000; font-weight: bold\">td</span>&gt;\n",
       "  &lt;<span style=\"color: #008000; font-weight: bold\">td</span>&gt;\n",
       "  &lt;/<span style=\"color: #008000; font-weight: bold\">td</span>&gt;\n",
       "  &lt;<span style=\"color: #008000; font-weight: bold\">td</span>&gt;\n",
       "   123 rue royale (Brussels)\n",
       "  &lt;/<span style=\"color: #008000; font-weight: bold\">td</span>&gt;\n",
       " &lt;/<span style=\"color: #008000; font-weight: bold\">tr</span>&gt;\n",
       " &lt;<span style=\"color: #008000; font-weight: bold\">tr</span>&gt;\n",
       "  &lt;<span style=\"color: #008000; font-weight: bold\">td</span>&gt;\n",
       "   &lt;<span style=\"color: #008000; font-weight: bold\">a</span> <span style=\"color: #7D9029\">href</span><span style=\"color: #666666\">=</span><span style=\"color: #BA2121\">&quot;/index.php?title=Event:Meeting_2013/8&quot;</span> <span style=\"color: #7D9029\">title</span><span style=\"color: #666666\">=</span><span style=\"color: #BA2121\">&quot;Event:Meeting 2013/8&quot;</span>&gt;\n",
       "    Meeting 2013/8\n",
       "   &lt;/<span style=\"color: #008000; font-weight: bold\">a</span>&gt;\n",
       "  &lt;/<span style=\"color: #008000; font-weight: bold\">td</span>&gt;\n",
       "  &lt;<span style=\"color: #008000; font-weight: bold\">td</span>&gt;\n",
       "   10 October 2013 19:30:00\n",
       "  &lt;/<span style=\"color: #008000; font-weight: bold\">td</span>&gt;\n",
       "  &lt;<span style=\"color: #008000; font-weight: bold\">td</span>&gt;\n",
       "   &lt;<span style=\"color: #008000; font-weight: bold\">a</span> <span style=\"color: #7D9029\">href</span><span style=\"color: #666666\">=</span><span style=\"color: #BA2121\">&quot;/index.php?title=Special:SearchByProperty/Tags/meeting&quot;</span> <span style=\"color: #7D9029\">title</span><span style=\"color: #666666\">=</span><span style=\"color: #BA2121\">&quot;Special:SearchByProperty/Tags/meeting&quot;</span>&gt;\n",
       "    meeting\n",
       "   &lt;/<span style=\"color: #008000; font-weight: bold\">a</span>&gt;\n",
       "  &lt;/<span style=\"color: #008000; font-weight: bold\">td</span>&gt;\n",
       "  &lt;<span style=\"color: #008000; font-weight: bold\">td</span>&gt;\n",
       "  &lt;/<span style=\"color: #008000; font-weight: bold\">td</span>&gt;\n",
       "  &lt;<span style=\"color: #008000; font-weight: bold\">td</span>&gt;\n",
       "   UrLab\n",
       "  &lt;/<span style=\"color: #008000; font-weight: bold\">td</span>&gt;\n",
       " &lt;/<span style=\"color: #008000; font-weight: bold\">tr</span>&gt;\n",
       " &lt;<span style=\"color: #008000; font-weight: bold\">tr</span>&gt;\n",
       "  &lt;<span style=\"color: #008000; font-weight: bold\">td</span>&gt;\n",
       "   &lt;<span style=\"color: #008000; font-weight: bold\">a</span> <span style=\"color: #7D9029\">href</span><span style=\"color: #666666\">=</span><span style=\"color: #BA2121\">&quot;/index.php?title=Event:Meeting_2013/7&quot;</span> <span style=\"color: #7D9029\">title</span><span style=\"color: #666666\">=</span><span style=\"color: #BA2121\">&quot;Event:Meeting 2013/7&quot;</span>&gt;\n",
       "    Meeting 2013/7\n",
       "   &lt;/<span style=\"color: #008000; font-weight: bold\">a</span>&gt;\n",
       "  &lt;/<span style=\"color: #008000; font-weight: bold\">td</span>&gt;\n",
       "  &lt;<span style=\"color: #008000; font-weight: bold\">td</span>&gt;\n",
       "   26 September 2013 19:30:00\n",
       "  &lt;/<span style=\"color: #008000; font-weight: bold\">td</span>&gt;\n",
       "  &lt;<span style=\"color: #008000; font-weight: bold\">td</span>&gt;\n",
       "   &lt;<span style=\"color: #008000; font-weight: bold\">a</span> <span style=\"color: #7D9029\">href</span><span style=\"color: #666666\">=</span><span style=\"color: #BA2121\">&quot;/index.php?title=Special:SearchByProperty/Tags/meeting&quot;</span> <span style=\"color: #7D9029\">title</span><span style=\"color: #666666\">=</span><span style=\"color: #BA2121\">&quot;Special:SearchByProperty/Tags/meeting&quot;</span>&gt;\n",
       "    meeting\n",
       "   &lt;/<span style=\"color: #008000; font-weight: bold\">a</span>&gt;\n",
       "  &lt;/<span style=\"color: #008000; font-weight: bold\">td</span>&gt;\n",
       "  &lt;<span style=\"color: #008000; font-weight: bold\">td</span>&gt;\n",
       "  &lt;/<span style=\"color: #008000; font-weight: bold\">td</span>&gt;\n",
       "  &lt;<span style=\"color: #008000; font-weight: bold\">td</span>&gt;\n",
       "   UrLab\n",
       "  &lt;/<span style=\"color: #008000; font-weight: bold\">td</span>&gt;\n",
       " &lt;/<span style=\"color: #008000; font-weight: bold\">tr</span>&gt;\n",
       " &lt;<span style=\"color: #008000; font-weight: bold\">tr</span>&gt;\n",
       "  &lt;<span style=\"color: #008000; font-weight: bold\">td</span>&gt;\n",
       "   &lt;<span style=\"color: #008000; font-weight: bold\">a</span> <span style=\"color: #7D9029\">href</span><span style=\"color: #666666\">=</span><span style=\"color: #BA2121\">&quot;/index.php?title=Event:Meeting_2013/4&quot;</span> <span style=\"color: #7D9029\">title</span><span style=\"color: #666666\">=</span><span style=\"color: #BA2121\">&quot;Event:Meeting 2013/4&quot;</span>&gt;\n",
       "    Meeting 2013/4\n",
       "   &lt;/<span style=\"color: #008000; font-weight: bold\">a</span>&gt;\n",
       "  &lt;/<span style=\"color: #008000; font-weight: bold\">td</span>&gt;\n",
       "  &lt;<span style=\"color: #008000; font-weight: bold\">td</span>&gt;\n",
       "   15 August 2013 19:30:00\n",
       "  &lt;/<span style=\"color: #008000; font-weight: bold\">td</span>&gt;\n",
       "  &lt;<span style=\"color: #008000; font-weight: bold\">td</span>&gt;\n",
       "   &lt;<span style=\"color: #008000; font-weight: bold\">a</span> <span style=\"color: #7D9029\">href</span><span style=\"color: #666666\">=</span><span style=\"color: #BA2121\">&quot;/index.php?title=Special:SearchByProperty/Tags/meeting&quot;</span> <span style=\"color: #7D9029\">title</span><span style=\"color: #666666\">=</span><span style=\"color: #BA2121\">&quot;Special:SearchByProperty/Tags/meeting&quot;</span>&gt;\n",
       "    meeting\n",
       "   &lt;/<span style=\"color: #008000; font-weight: bold\">a</span>&gt;\n",
       "  &lt;/<span style=\"color: #008000; font-weight: bold\">td</span>&gt;\n",
       "  &lt;<span style=\"color: #008000; font-weight: bold\">td</span>&gt;\n",
       "  &lt;/<span style=\"color: #008000; font-weight: bold\">td</span>&gt;\n",
       "  &lt;<span style=\"color: #008000; font-weight: bold\">td</span>&gt;\n",
       "   123 rue royale (Brussels)\n",
       "  &lt;/<span style=\"color: #008000; font-weight: bold\">td</span>&gt;\n",
       " &lt;/<span style=\"color: #008000; font-weight: bold\">tr</span>&gt;\n",
       " &lt;<span style=\"color: #008000; font-weight: bold\">tr</span>&gt;\n",
       "  &lt;<span style=\"color: #008000; font-weight: bold\">td</span>&gt;\n",
       "   &lt;<span style=\"color: #008000; font-weight: bold\">a</span> <span style=\"color: #7D9029\">href</span><span style=\"color: #666666\">=</span><span style=\"color: #BA2121\">&quot;/index.php?title=Event:Meeting_2013/3&quot;</span> <span style=\"color: #7D9029\">title</span><span style=\"color: #666666\">=</span><span style=\"color: #BA2121\">&quot;Event:Meeting 2013/3&quot;</span>&gt;\n",
       "    Meeting 2013/3\n",
       "   &lt;/<span style=\"color: #008000; font-weight: bold\">a</span>&gt;\n",
       "  &lt;/<span style=\"color: #008000; font-weight: bold\">td</span>&gt;\n",
       "  &lt;<span style=\"color: #008000; font-weight: bold\">td</span>&gt;\n",
       "   8 August 2013 19:00:00\n",
       "  &lt;/<span style=\"color: #008000; font-weight: bold\">td</span>&gt;\n",
       "  &lt;<span style=\"color: #008000; font-weight: bold\">td</span>&gt;\n",
       "   &lt;<span style=\"color: #008000; font-weight: bold\">a</span> <span style=\"color: #7D9029\">href</span><span style=\"color: #666666\">=</span><span style=\"color: #BA2121\">&quot;/index.php?title=Special:SearchByProperty/Tags/meeting&quot;</span> <span style=\"color: #7D9029\">title</span><span style=\"color: #666666\">=</span><span style=\"color: #BA2121\">&quot;Special:SearchByProperty/Tags/meeting&quot;</span>&gt;\n",
       "    meeting\n",
       "   &lt;/<span style=\"color: #008000; font-weight: bold\">a</span>&gt;\n",
       "  &lt;/<span style=\"color: #008000; font-weight: bold\">td</span>&gt;\n",
       "  &lt;<span style=\"color: #008000; font-weight: bold\">td</span>&gt;\n",
       "  &lt;/<span style=\"color: #008000; font-weight: bold\">td</span>&gt;\n",
       "  &lt;<span style=\"color: #008000; font-weight: bold\">td</span>&gt;\n",
       "   HSBXL\n",
       "  &lt;/<span style=\"color: #008000; font-weight: bold\">td</span>&gt;\n",
       " &lt;/<span style=\"color: #008000; font-weight: bold\">tr</span>&gt;\n",
       " &lt;<span style=\"color: #008000; font-weight: bold\">tr</span>&gt;\n",
       "  &lt;<span style=\"color: #008000; font-weight: bold\">td</span>&gt;\n",
       "   &lt;<span style=\"color: #008000; font-weight: bold\">a</span> <span style=\"color: #7D9029\">href</span><span style=\"color: #666666\">=</span><span style=\"color: #BA2121\">&quot;/index.php?title=Event:Meeting_2013/2&quot;</span> <span style=\"color: #7D9029\">title</span><span style=\"color: #666666\">=</span><span style=\"color: #BA2121\">&quot;Event:Meeting 2013/2&quot;</span>&gt;\n",
       "    Meeting 2013/2\n",
       "   &lt;/<span style=\"color: #008000; font-weight: bold\">a</span>&gt;\n",
       "  &lt;/<span style=\"color: #008000; font-weight: bold\">td</span>&gt;\n",
       "  &lt;<span style=\"color: #008000; font-weight: bold\">td</span>&gt;\n",
       "   25 July 2013 19:30:00\n",
       "  &lt;/<span style=\"color: #008000; font-weight: bold\">td</span>&gt;\n",
       "  &lt;<span style=\"color: #008000; font-weight: bold\">td</span>&gt;\n",
       "   &lt;<span style=\"color: #008000; font-weight: bold\">a</span> <span style=\"color: #7D9029\">href</span><span style=\"color: #666666\">=</span><span style=\"color: #BA2121\">&quot;/index.php?title=Special:SearchByProperty/Tags/meeting&quot;</span> <span style=\"color: #7D9029\">title</span><span style=\"color: #666666\">=</span><span style=\"color: #BA2121\">&quot;Special:SearchByProperty/Tags/meeting&quot;</span>&gt;\n",
       "    meeting\n",
       "   &lt;/<span style=\"color: #008000; font-weight: bold\">a</span>&gt;\n",
       "  &lt;/<span style=\"color: #008000; font-weight: bold\">td</span>&gt;\n",
       "  &lt;<span style=\"color: #008000; font-weight: bold\">td</span>&gt;\n",
       "  &lt;/<span style=\"color: #008000; font-weight: bold\">td</span>&gt;\n",
       "  &lt;<span style=\"color: #008000; font-weight: bold\">td</span>&gt;\n",
       "   Chez Toone\n",
       "  &lt;/<span style=\"color: #008000; font-weight: bold\">td</span>&gt;\n",
       " &lt;/<span style=\"color: #008000; font-weight: bold\">tr</span>&gt;\n",
       " &lt;<span style=\"color: #008000; font-weight: bold\">tr</span>&gt;\n",
       "  &lt;<span style=\"color: #008000; font-weight: bold\">td</span>&gt;\n",
       "   &lt;<span style=\"color: #008000; font-weight: bold\">a</span> <span style=\"color: #7D9029\">href</span><span style=\"color: #666666\">=</span><span style=\"color: #BA2121\">&quot;/index.php?title=Event:Meeting_2013/1&quot;</span> <span style=\"color: #7D9029\">title</span><span style=\"color: #666666\">=</span><span style=\"color: #BA2121\">&quot;Event:Meeting 2013/1&quot;</span>&gt;\n",
       "    Meeting 2013/1\n",
       "   &lt;/<span style=\"color: #008000; font-weight: bold\">a</span>&gt;\n",
       "  &lt;/<span style=\"color: #008000; font-weight: bold\">td</span>&gt;\n",
       "  &lt;<span style=\"color: #008000; font-weight: bold\">td</span>&gt;\n",
       "   18 July 2013 19:00:00\n",
       "  &lt;/<span style=\"color: #008000; font-weight: bold\">td</span>&gt;\n",
       "  &lt;<span style=\"color: #008000; font-weight: bold\">td</span>&gt;\n",
       "   &lt;<span style=\"color: #008000; font-weight: bold\">a</span> <span style=\"color: #7D9029\">href</span><span style=\"color: #666666\">=</span><span style=\"color: #BA2121\">&quot;/index.php?title=Special:SearchByProperty/Tags/meeting&quot;</span> <span style=\"color: #7D9029\">title</span><span style=\"color: #666666\">=</span><span style=\"color: #BA2121\">&quot;Special:SearchByProperty/Tags/meeting&quot;</span>&gt;\n",
       "    meeting\n",
       "   &lt;/<span style=\"color: #008000; font-weight: bold\">a</span>&gt;\n",
       "  &lt;/<span style=\"color: #008000; font-weight: bold\">td</span>&gt;\n",
       "  &lt;<span style=\"color: #008000; font-weight: bold\">td</span>&gt;\n",
       "  &lt;/<span style=\"color: #008000; font-weight: bold\">td</span>&gt;\n",
       "  &lt;<span style=\"color: #008000; font-weight: bold\">td</span>&gt;\n",
       "   UrLab\n",
       "  &lt;/<span style=\"color: #008000; font-weight: bold\">td</span>&gt;\n",
       " &lt;/<span style=\"color: #008000; font-weight: bold\">tr</span>&gt;\n",
       "&lt;/<span style=\"color: #008000; font-weight: bold\">table</span>&gt;\n",
       "</pre></div>\n",
       "<hr/>"
      ],
      "text/plain": [
       "<table class=\"wikitable\" style=\"width:100%;\">\\n<tr>\\n<th style=\"background:black; color:white;\"> Name\\n</th>\\n<th style=\"background:black; color:white;\"> Date\\n</th>\\n<th style=\"background:black; color:white;\"> Tags\\n</th>\\n<th style=\"background:black; color:white;\"> Organizer\\n</th>\\n<th style=\"background:black; color:white;\"> Location\\n</th></tr>\\n<tr>\\n<td><a href=\"/index.php?title=Event:Meeting_2016/03\" title=\"Event:Meeting 2016/03\">Meeting 2016/03</a> </td>\\n<td> 25 February 2016 19:30:00 </td>\\n<td> </td>\\n<td> bram </td>\\n<td> 123 rue royale 1000 Bruxelles Belgique\\n</td></tr>\\n<tr>\\n<td><a href=\"/index.php?title=Event:Members_meeting_4\" title=\"Event:Members meeting 4\">Members meeting 4</a> </td>\\n<td> 21 February 2016 14:00:00 </td>\\n<td> </td>\\n<td> bram </td>\\n<td> 123 rue royale 1000 Bruxelles Belgique\\n</td></tr>\\n<tr>\\n<td><a href=\"/index.php?title=Event:Meeting_2016/02\" title=\"Event:Meeting 2016/02\">Meeting 2016/02</a> </td>\\n<td> 11 February 2016 19:30:00 </td>\\n<td> </td>\\n<td> bram </td>\\n<td> 123 rue royale 1000 Bruxelles Belgique\\n</td></tr>\\n<tr>\\n<td><a href=\"/index.php?title=Event:Members_meeting_3\" title=\"Event:Members meeting 3\">Members meeting 3</a> </td>\\n<td> 17 January 2016 14:00:00 </td>\\n<td> </td>\\n<td> bram </td>\\n<td> 123 rue royale 1000 Bruxelles Belgique\\n</td></tr>\\n<tr>\\n<td><a href=\"/index.php?title=Event:Meeting_2016/01\" title=\"Event:Meeting 2016/01\">Meeting 2016/01</a> </td>\\n<td> 14 January 2016 19:30:00 </td>\\n<td> </td>\\n<td> bram </td>\\n<td> 123 rue royale 1000 Bruxelles Belgique\\n</td></tr>\\n<tr>\\n<td><a href=\"/index.php?title=Event:Members_meeting_2\" title=\"Event:Members meeting 2\">Members meeting 2</a> </td>\\n<td> 20 December 2015 14:00:00 </td>\\n<td> </td>\\n<td> bram </td>\\n<td> 123 rue royale 1000 Bruxelles Belgique\\n</td></tr>\\n<tr>\\n<td><a href=\"/index.php?title=Event:Meeting_2015/15\" title=\"Event:Meeting 2015/15\">Meeting 2015/15</a> </td>\\n<td> 3 December 2015 19:30:00 </td>\\n<td> </td>\\n<td> bram </td>\\n<td> 123 rue royale 1000 Bruxelles Belgique\\n</td></tr>\\n<tr>\\n<td><a href=\"/index.php?title=Event:Meeting_2015/14\" title=\"Event:Meeting 2015/14\">Meeting 2015/14</a> </td>\\n<td> 3 November 2015 19:30:00 </td>\\n<td> </td>\\n<td> bram </td>\\n<td> 123 rue royale 1000 Bruxelles Belgique\\n</td></tr>\\n<tr>\\n<td><a href=\"/index.php?title=Event:Meeting_2015/13\" title=\"Event:Meeting 2015/13\">Meeting 2015/13</a> </td>\\n<td> 22 October 2015 19:30:00 </td>\\n<td> </td>\\n<td> bram </td>\\n<td> 123 rue royale 1000 Bruxelles Belgique\\n</td></tr>\\n<tr>\\n<td><a href=\"/index.php?title=Event:Members_meetings\" title=\"Event:Members meetings\">Members meetings</a> </td>\\n<td> 18 October 2015 13:02:00 </td>\\n<td> </td>\\n<td> bram </td>\\n<td> 123 rue royale 1000 Bruxelles Belgique\\n</td></tr>\\n<tr>\\n<td><a href=\"/index.php?title=Event:Neutrinet_au_caf%C3%A9_num%C3%A9rique_S07\" title=\"Event:Neutrinet au caf\\xe9 num\\xe9rique S07\">Neutrinet au caf\\xe9 num\\xe9rique S07</a> </td>\\n<td> 7 October 2015 19:00:00 </td>\\n<td> </td>\\n<td> bram </td>\\n<td> 123 rue royale 1000 Bruxelles Belgique\\n</td></tr>\\n<tr>\\n<td><a href=\"/index.php?title=Event:Neutrinet_at_%22Le_Temp_des_Communs%22\" title='Event:Neutrinet at \"Le Temp des Communs\"'>Neutrinet at \"Le Temp des Communs\"</a> </td>\\n<td> 5 October 2015 20:00:00 </td>\\n<td> </td>\\n<td> bram </td>\\n<td> World Trade Center I Boulevard du Roi Albert II 30 bte 5 B-1000 Bruxelles\\n</td></tr>\\n<tr>\\n<td><a href=\"/index.php?title=Event:Meeting_2015/12_(General_Assembly)\" title=\"Event:Meeting 2015/12 (General Assembly)\">Meeting 2015/12 (General Assembly)</a> </td>\\n<td> 24 September 2015 19:30:00 </td>\\n<td> </td>\\n<td> bram </td>\\n<td> World Trade Center, tower I, floor 25, 28-30 boulevard du roi Albert II, Bruxelles\\n</td></tr>\\n<tr>\\n<td><a href=\"/index.php?title=Event:Stand_FFDN_(donc_dont_Neutrinet)_%C3%A0_la_Braderie_de_Lille\" title=\"Event:Stand FFDN (donc dont Neutrinet) \\xe0 la Braderie de Lille\">Stand FFDN (donc dont Neutrinet) \\xe0 la Braderie de Lille</a> </td>\\n<td> 5 September 2015 13:00:00 </td>\\n<td> </td>\\n<td> bram </td>\\n<td> Lille\\n</td></tr>\\n<tr>\\n<td><a href=\"/index.php?title=Event:Meeting_2015/11\" title=\"Event:Meeting 2015/11\">Meeting 2015/11</a> </td>\\n<td> 20 August 2015 19:30:00 </td>\\n<td> </td>\\n<td> bram </td>\\n<td> 123 rue royale 1000 Bruxelles Belgique\\n</td></tr>\\n<tr>\\n<td><a href=\"/index.php?title=Event:Meeting_2015/10\" title=\"Event:Meeting 2015/10\">Meeting 2015/10</a> </td>\\n<td> 23 July 2015 19:30:00 </td>\\n<td> </td>\\n<td> bram </td>\\n<td> 123 rue royale 1000 Bruxelles Belgique\\n</td></tr>\\n<tr>\\n<td><a href=\"/index.php?title=Event:Meeting_2015/09\" title=\"Event:Meeting 2015/09\">Meeting 2015/09</a> </td>\\n<td> 8 July 2015 19:00:00 </td>\\n<td> </td>\\n<td> bram </td>\\n<td> 123 rue royale 1000 Bruxelles Belgique\\n</td></tr>\\n<tr>\\n<td><a href=\"/index.php?title=Event:Install_Party\" title=\"Event:Install Party\">Install Party</a> </td>\\n<td> 2 July 2015 19:00:00 </td>\\n<td> </td>\\n<td> Bram </td>\\n<td> 123 rue royale\\n</td></tr>\\n<tr>\\n<td><a href=\"/index.php?title=Event:Meeting_2015/08\" title=\"Event:Meeting 2015/08\">Meeting 2015/08</a> </td>\\n<td> 18 June 2015 20:00:00 </td>\\n<td> </td>\\n<td> </td>\\n<td> Rue du Canal 45, BXL\\n</td></tr>\\n<tr>\\n<td><a href=\"/index.php?title=Event:Meeting_2015/07\" title=\"Event:Meeting 2015/07\">Meeting 2015/07</a> </td>\\n<td> 7 June 2015 14:00:00 </td>\\n<td> </td>\\n<td> Yvan </td>\\n<td> Poissonnerie (Bruxelles)\\n</td></tr>\\n<tr>\\n<td><a href=\"/index.php?title=Event:Meeting_2015/06\" title=\"Event:Meeting 2015/06\">Meeting 2015/06</a> </td>\\n<td> 21 May 2015 19:30:00 </td>\\n<td> </td>\\n<td> Bram </td>\\n<td> F/LAT 45 rue du canal Bruxelles\\n</td></tr>\\n<tr>\\n<td><a href=\"/index.php?title=Event:Meeting_2015/05\" title=\"Event:Meeting 2015/05\">Meeting 2015/05</a> </td>\\n<td> 16 April 2015 19:30:00 </td>\\n<td> </td>\\n<td> Bram </td>\\n<td> F/LAT\\n</td></tr>\\n<tr>\\n<td><a href=\"/index.php?title=Event:Meeting_2015/04\" title=\"Event:Meeting 2015/04\">Meeting 2015/04</a> </td>\\n<td> 2 April 2015 19:30:00 </td>\\n<td> </td>\\n<td> </td>\\n<td> F/LAT\\n</td></tr>\\n<tr>\\n<td><a href=\"/index.php?title=Event:Meeting_2015/03\" title=\"Event:Meeting 2015/03\">Meeting 2015/03</a> </td>\\n<td> 12 March 2015 00:00:00 </td>\\n<td> </td>\\n<td> </td>\\n<td> F/LAT\\n</td></tr>\\n<tr>\\n<td><a href=\"/index.php?title=Event:Meeting_2015/02\" title=\"Event:Meeting 2015/02\">Meeting 2015/02</a> </td>\\n<td> 5 February 2015 19:30:00 </td>\\n<td> </td>\\n<td> </td>\\n<td> 45 rue du canal\\n</td></tr>\\n<tr>\\n<td><a href=\"/index.php?title=Event:FOSDEM_DIY-ISP_meetup\" title=\"Event:FOSDEM DIY-ISP meetup\">FOSDEM DIY-ISP meetup</a> </td>\\n<td> 1 February 2015 16:00:00 </td>\\n<td> </td>\\n<td> </td>\\n<td> Urlab, Avenue Buyl 131, 1050 Ixelles\\n</td></tr>\\n<tr>\\n<td><a href=\"/index.php?title=Event:Meeting_2015/01_--_Assembl%C3%A9e_G%C3%A9n%C3%A9rale\" title=\"Event:Meeting 2015/01 -- Assembl\\xe9e G\\xe9n\\xe9rale\">Meeting 2015/01 -- Assembl\\xe9e G\\xe9n\\xe9rale</a> </td>\\n<td> 15 January 2015 19:30:00 </td>\\n<td> </td>\\n<td> </td>\\n<td> 123 Rue Royale, BXL\\n</td></tr>\\n<tr>\\n<td><a href=\"/index.php?title=Event:Meeting_2014/18\" title=\"Event:Meeting 2014/18\">Meeting 2014/18</a> </td>\\n<td> 17 December 2014 19:30:00 </td>\\n<td> </td>\\n<td> Bram </td>\\n<td> 123 Rue Royale, BXL\\n</td></tr>\\n<tr>\\n<td><a href=\"/index.php?title=Event:Meeting_2014/17\" title=\"Event:Meeting 2014/17\">Meeting 2014/17</a> </td>\\n<td> 10 December 2014 19:30:00 </td>\\n<td> </td>\\n<td> </td>\\n<td> 123 Rue Royale, BXL\\n</td></tr>\\n<tr>\\n<td><a href=\"/index.php?title=Event:Meeting_2014/16\" title=\"Event:Meeting 2014/16\">Meeting 2014/16</a> </td>\\n<td> 20 November 2014 19:30:00 </td>\\n<td> </td>\\n<td> Neutrinet </td>\\n<td> 123 rue Royale - 1000 Bruxelles - 4eme \\xe9tage local FEBUL\\n</td></tr>\\n<tr>\\n<td><a href=\"/index.php?title=Event:Meeting_2014/15\" title=\"Event:Meeting 2014/15\">Meeting 2014/15</a> </td>\\n<td> 16 October 2014 19:30:00 </td>\\n<td> </td>\\n<td> Neutrinet </td>\\n<td> 45 Rue du Canal, BXL\\n</td></tr>\\n<tr>\\n<td><a href=\"/index.php?title=Event:Meeting_2014/14\" title=\"Event:Meeting 2014/14\">Meeting 2014/14</a> </td>\\n<td> 25 September 2014 19:30:00 </td>\\n<td> </td>\\n<td> Neutrinet </td>\\n<td> 45 rue du Canal, 1000 BXL\\n</td></tr>\\n<tr>\\n<td><a href=\"/index.php?title=Event:Meeting_2014/13\" title=\"Event:Meeting 2014/13\">Meeting 2014/13</a> </td>\\n<td> 29 August 2014 19:30:00 </td>\\n<td> </td>\\n<td> Neutrinet </td>\\n<td> 123 Rue Royale, BXL\\n</td></tr>\\n<tr>\\n<td><a href=\"/index.php?title=Event:Meeting_2014/12\" title=\"Event:Meeting 2014/12\">Meeting 2014/12</a> </td>\\n<td> 31 July 2014 19:30:00 </td>\\n<td> </td>\\n<td> Neutrinet </td>\\n<td> 123 Rue Royale BXL\\n</td></tr>\\n<tr>\\n<td><a href=\"/index.php?title=Event:Meeting_2014/11\" title=\"Event:Meeting 2014/11\">Meeting 2014/11</a> </td>\\n<td> 7 July 2014 19:30:00 </td>\\n<td> </td>\\n<td> </td>\\n<td> 123 Rue Royale, BXL\\n</td></tr>\\n<tr>\\n<td><a href=\"/index.php?title=Event:Meeting_2014/5\" title=\"Event:Meeting 2014/5\">Meeting 2014/5</a> </td>\\n<td> 13 March 2014 19:30:00 </td>\\n<td> </td>\\n<td> </td>\\n<td> 123 Rue Royale, BXL\\n</td></tr>\\n<tr>\\n<td><a href=\"/index.php?title=Event:Meeting_2013/11\" title=\"Event:Meeting 2013/11\">Meeting 2013/11</a> </td>\\n<td> 21 November 2013 18:00:00 </td>\\n<td> <a href=\"/index.php?title=Special:SearchByProperty/Tags/AG\" title=\"Special:SearchByProperty/Tags/AG\">AG</a>, <a href=\"/index.php?title=Special:SearchByProperty/Tags/meeting\" title=\"Special:SearchByProperty/Tags/meeting\">meeting</a> </td>\\n<td> </td>\\n<td> 123 rue royale (Brussels)\\n</td></tr>\\n<tr>\\n<td><a href=\"/index.php?title=Event:Meeting_2013/10\" title=\"Event:Meeting 2013/10\">Meeting 2013/10</a> </td>\\n<td> 7 November 2013 19:30:00 </td>\\n<td> <a href=\"/index.php?title=Special:SearchByProperty/Tags/meeting\" title=\"Special:SearchByProperty/Tags/meeting\">meeting</a> </td>\\n<td> </td>\\n<td> 123 rue royale (Brussels)\\n</td></tr>\\n<tr>\\n<td><a href=\"/index.php?title=Event:Meeting_2013/8\" title=\"Event:Meeting 2013/8\">Meeting 2013/8</a> </td>\\n<td> 10 October 2013 19:30:00 </td>\\n<td> <a href=\"/index.php?title=Special:SearchByProperty/Tags/meeting\" title=\"Special:SearchByProperty/Tags/meeting\">meeting</a> </td>\\n<td> </td>\\n<td> UrLab\\n</td></tr>\\n<tr>\\n<td><a href=\"/index.php?title=Event:Meeting_2013/7\" title=\"Event:Meeting 2013/7\">Meeting 2013/7</a> </td>\\n<td> 26 September 2013 19:30:00 </td>\\n<td> <a href=\"/index.php?title=Special:SearchByProperty/Tags/meeting\" title=\"Special:SearchByProperty/Tags/meeting\">meeting</a> </td>\\n<td> </td>\\n<td> UrLab\\n</td></tr>\\n<tr>\\n<td><a href=\"/index.php?title=Event:Meeting_2013/4\" title=\"Event:Meeting 2013/4\">Meeting 2013/4</a> </td>\\n<td> 15 August 2013 19:30:00 </td>\\n<td> <a href=\"/index.php?title=Special:SearchByProperty/Tags/meeting\" title=\"Special:SearchByProperty/Tags/meeting\">meeting</a> </td>\\n<td> </td>\\n<td> 123 rue royale (Brussels)\\n</td></tr>\\n<tr>\\n<td><a href=\"/index.php?title=Event:Meeting_2013/3\" title=\"Event:Meeting 2013/3\">Meeting 2013/3</a> </td>\\n<td> 8 August 2013 19:00:00 </td>\\n<td> <a href=\"/index.php?title=Special:SearchByProperty/Tags/meeting\" title=\"Special:SearchByProperty/Tags/meeting\">meeting</a> </td>\\n<td> </td>\\n<td> HSBXL\\n</td></tr>\\n<tr>\\n<td><a href=\"/index.php?title=Event:Meeting_2013/2\" title=\"Event:Meeting 2013/2\">Meeting 2013/2</a> </td>\\n<td> 25 July 2013 19:30:00 </td>\\n<td> <a href=\"/index.php?title=Special:SearchByProperty/Tags/meeting\" title=\"Special:SearchByProperty/Tags/meeting\">meeting</a> </td>\\n<td> </td>\\n<td> Chez Toone\\n</td></tr>\\n<tr>\\n<td><a href=\"/index.php?title=Event:Meeting_2013/1\" title=\"Event:Meeting 2013/1\">Meeting 2013/1</a> </td>\\n<td> 18 July 2013 19:00:00 </td>\\n<td> <a href=\"/index.php?title=Special:SearchByProperty/Tags/meeting\" title=\"Special:SearchByProperty/Tags/meeting\">meeting</a> </td>\\n<td> </td>\\n<td> UrLab\\n</td></tr></table>"
      ]
     },
     "execution_count": 84,
     "metadata": {},
     "output_type": "execute_result"
    }
   ],
   "source": [
    "soup.find(\"table\")"
   ]
  },
  {
   "cell_type": "code",
   "execution_count": 87,
   "metadata": {
    "collapsed": false,
    "scrolled": false,
    "slideshow": {
     "slide_type": "skip"
    }
   },
   "outputs": [
    {
     "data": {
      "text/html": [
       "<tr>\n",
       "<th style=\"background:black; color:white;\"> Name\n",
       "</th>\n",
       "<th style=\"background:black; color:white;\"> Date\n",
       "</th>\n",
       "<th style=\"background:black; color:white;\"> Tags\n",
       "</th>\n",
       "<th style=\"background:black; color:white;\"> Organizer\n",
       "</th>\n",
       "<th style=\"background:black; color:white;\"> Location\n",
       "</th></tr><hr/><div class=\"highlight\" style=\"background: #f8f8f8\"><pre style=\"line-height: 125%\"><span></span>&lt;<span style=\"color: #008000; font-weight: bold\">tr</span>&gt;\n",
       " &lt;<span style=\"color: #008000; font-weight: bold\">th</span> <span style=\"color: #7D9029\">style</span><span style=\"color: #666666\">=</span><span style=\"color: #BA2121\">&quot;background:black; color:white;&quot;</span>&gt;\n",
       "  Name\n",
       " &lt;/<span style=\"color: #008000; font-weight: bold\">th</span>&gt;\n",
       " &lt;<span style=\"color: #008000; font-weight: bold\">th</span> <span style=\"color: #7D9029\">style</span><span style=\"color: #666666\">=</span><span style=\"color: #BA2121\">&quot;background:black; color:white;&quot;</span>&gt;\n",
       "  Date\n",
       " &lt;/<span style=\"color: #008000; font-weight: bold\">th</span>&gt;\n",
       " &lt;<span style=\"color: #008000; font-weight: bold\">th</span> <span style=\"color: #7D9029\">style</span><span style=\"color: #666666\">=</span><span style=\"color: #BA2121\">&quot;background:black; color:white;&quot;</span>&gt;\n",
       "  Tags\n",
       " &lt;/<span style=\"color: #008000; font-weight: bold\">th</span>&gt;\n",
       " &lt;<span style=\"color: #008000; font-weight: bold\">th</span> <span style=\"color: #7D9029\">style</span><span style=\"color: #666666\">=</span><span style=\"color: #BA2121\">&quot;background:black; color:white;&quot;</span>&gt;\n",
       "  Organizer\n",
       " &lt;/<span style=\"color: #008000; font-weight: bold\">th</span>&gt;\n",
       " &lt;<span style=\"color: #008000; font-weight: bold\">th</span> <span style=\"color: #7D9029\">style</span><span style=\"color: #666666\">=</span><span style=\"color: #BA2121\">&quot;background:black; color:white;&quot;</span>&gt;\n",
       "  Location\n",
       " &lt;/<span style=\"color: #008000; font-weight: bold\">th</span>&gt;\n",
       "&lt;/<span style=\"color: #008000; font-weight: bold\">tr</span>&gt;\n",
       "</pre></div>\n",
       "<hr/>"
      ],
      "text/plain": [
       "<tr>\\n<th style=\"background:black; color:white;\"> Name\\n</th>\\n<th style=\"background:black; color:white;\"> Date\\n</th>\\n<th style=\"background:black; color:white;\"> Tags\\n</th>\\n<th style=\"background:black; color:white;\"> Organizer\\n</th>\\n<th style=\"background:black; color:white;\"> Location\\n</th></tr>"
      ]
     },
     "execution_count": 87,
     "metadata": {},
     "output_type": "execute_result"
    }
   ],
   "source": [
    "soup.find_all(\"tr\")[0]"
   ]
  },
  {
   "cell_type": "code",
   "execution_count": 88,
   "metadata": {
    "collapsed": false,
    "slideshow": {
     "slide_type": "skip"
    }
   },
   "outputs": [
    {
     "data": {
      "text/html": [
       "<tr>\n",
       "<td><a href=\"/index.php?title=Event:Meeting_2016/03\" title=\"Event:Meeting 2016/03\">Meeting 2016/03</a> </td>\n",
       "<td> 25 February 2016 19:30:00 </td>\n",
       "<td> </td>\n",
       "<td> bram </td>\n",
       "<td> 123 rue royale 1000 Bruxelles Belgique\n",
       "</td></tr><hr/><div class=\"highlight\" style=\"background: #f8f8f8\"><pre style=\"line-height: 125%\"><span></span>&lt;<span style=\"color: #008000; font-weight: bold\">tr</span>&gt;\n",
       " &lt;<span style=\"color: #008000; font-weight: bold\">td</span>&gt;\n",
       "  &lt;<span style=\"color: #008000; font-weight: bold\">a</span> <span style=\"color: #7D9029\">href</span><span style=\"color: #666666\">=</span><span style=\"color: #BA2121\">&quot;/index.php?title=Event:Meeting_2016/03&quot;</span> <span style=\"color: #7D9029\">title</span><span style=\"color: #666666\">=</span><span style=\"color: #BA2121\">&quot;Event:Meeting 2016/03&quot;</span>&gt;\n",
       "   Meeting 2016/03\n",
       "  &lt;/<span style=\"color: #008000; font-weight: bold\">a</span>&gt;\n",
       " &lt;/<span style=\"color: #008000; font-weight: bold\">td</span>&gt;\n",
       " &lt;<span style=\"color: #008000; font-weight: bold\">td</span>&gt;\n",
       "  25 February 2016 19:30:00\n",
       " &lt;/<span style=\"color: #008000; font-weight: bold\">td</span>&gt;\n",
       " &lt;<span style=\"color: #008000; font-weight: bold\">td</span>&gt;\n",
       " &lt;/<span style=\"color: #008000; font-weight: bold\">td</span>&gt;\n",
       " &lt;<span style=\"color: #008000; font-weight: bold\">td</span>&gt;\n",
       "  bram\n",
       " &lt;/<span style=\"color: #008000; font-weight: bold\">td</span>&gt;\n",
       " &lt;<span style=\"color: #008000; font-weight: bold\">td</span>&gt;\n",
       "  123 rue royale 1000 Bruxelles Belgique\n",
       " &lt;/<span style=\"color: #008000; font-weight: bold\">td</span>&gt;\n",
       "&lt;/<span style=\"color: #008000; font-weight: bold\">tr</span>&gt;\n",
       "</pre></div>\n",
       "<hr/>"
      ],
      "text/plain": [
       "<tr>\\n<td><a href=\"/index.php?title=Event:Meeting_2016/03\" title=\"Event:Meeting 2016/03\">Meeting 2016/03</a> </td>\\n<td> 25 February 2016 19:30:00 </td>\\n<td> </td>\\n<td> bram </td>\\n<td> 123 rue royale 1000 Bruxelles Belgique\\n</td></tr>"
      ]
     },
     "execution_count": 88,
     "metadata": {},
     "output_type": "execute_result"
    }
   ],
   "source": [
    "soup.find_all(\"tr\")[1]"
   ]
  },
  {
   "cell_type": "code",
   "execution_count": 89,
   "metadata": {
    "collapsed": false,
    "slideshow": {
     "slide_type": "skip"
    }
   },
   "outputs": [
    {
     "data": {
      "text/html": [
       "<a href=\"/index.php?title=Event:Meeting_2016/03\" title=\"Event:Meeting 2016/03\">Meeting 2016/03</a><hr/><div class=\"highlight\" style=\"background: #f8f8f8\"><pre style=\"line-height: 125%\"><span></span>&lt;<span style=\"color: #008000; font-weight: bold\">a</span> <span style=\"color: #7D9029\">href</span><span style=\"color: #666666\">=</span><span style=\"color: #BA2121\">&quot;/index.php?title=Event:Meeting_2016/03&quot;</span> <span style=\"color: #7D9029\">title</span><span style=\"color: #666666\">=</span><span style=\"color: #BA2121\">&quot;Event:Meeting 2016/03&quot;</span>&gt;\n",
       " Meeting 2016/03\n",
       "&lt;/<span style=\"color: #008000; font-weight: bold\">a</span>&gt;\n",
       "</pre></div>\n",
       "<hr/>"
      ],
      "text/plain": [
       "<a href=\"/index.php?title=Event:Meeting_2016/03\" title=\"Event:Meeting 2016/03\">Meeting 2016/03</a>"
      ]
     },
     "execution_count": 89,
     "metadata": {},
     "output_type": "execute_result"
    }
   ],
   "source": [
    "soup.find_all(\"tr\")[1].a"
   ]
  },
  {
   "cell_type": "markdown",
   "metadata": {
    "slideshow": {
     "slide_type": "subslide"
    }
   },
   "source": [
    "![ipbs.png](ipbs.png)"
   ]
  },
  {
   "cell_type": "markdown",
   "metadata": {
    "slideshow": {
     "slide_type": "slide"
    }
   },
   "source": [
    "# Avant de finir, quelques pistes pour aller plus loin\n",
    "\n",
    "* Selenium : http://www.seleniumhq.org/\n",
    "* asyncio pour les websockets\n",
    "* asyncio pour dl comme un gros porc en parallèle\n",
    "* multiprocessing.Pool.map pour le parallélisme du pauvre\n",
    "* sortez pypy si vous avez besoin de perf"
   ]
  },
  {
   "cell_type": "markdown",
   "metadata": {
    "slideshow": {
     "slide_type": "slide"
    }
   },
   "source": [
    "# FAIM\n",
    "\n",
    "Des questions ?"
   ]
  }
 ],
 "metadata": {
  "celltoolbar": "Slideshow",
  "kernelspec": {
   "display_name": "Python 2",
   "language": "python",
   "name": "python2"
  },
  "language_info": {
   "codemirror_mode": {
    "name": "ipython",
    "version": 2
   },
   "file_extension": ".py",
   "mimetype": "text/x-python",
   "name": "python",
   "nbconvert_exporter": "python",
   "pygments_lexer": "ipython2",
   "version": "2.7.6"
  }
 },
 "nbformat": 4,
 "nbformat_minor": 0
}
